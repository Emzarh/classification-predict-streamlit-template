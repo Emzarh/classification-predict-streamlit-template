{
 "cells": [
  {
   "cell_type": "markdown",
   "metadata": {
    "_cell_guid": "b1076dfc-b9ad-4769-8c92-a6c4dae69d19",
    "_uuid": "8f2839f25d086af736a60e9eeb907d3b93b6e0e5",
    "papermill": {
     "duration": 0.037159,
     "end_time": "2021-06-12T13:26:39.968358",
     "exception": false,
     "start_time": "2021-06-12T13:26:39.931199",
     "status": "completed"
    },
    "tags": []
   },
   "source": [
    "# EDSA -Climate Change Belief Analysis 2021\n",
    "\n",
    "## By Team: Regression_MM2_DSF\n",
    "\n",
    "### Dimakatso Mongwegelwa\n",
    "### Reitumetse Nchoe\n",
    "### Refiloe Dhlamini\n",
    "### Chantell Machobane\n",
    "### Emanuel Dikotla\n",
    "### Neo Sebanze\n"
   ]
  },
  {
   "cell_type": "markdown",
   "metadata": {
    "papermill": {
     "duration": 0.036645,
     "end_time": "2021-06-12T13:26:40.040207",
     "exception": false,
     "start_time": "2021-06-12T13:26:40.003562",
     "status": "completed"
    },
    "tags": []
   },
   "source": [
    "## Challenge Description \n",
    "\n",
    "### Team_MM2 is required to ..."
   ]
  },
  {
   "cell_type": "markdown",
   "metadata": {
    "papermill": {
     "duration": 0.035277,
     "end_time": "2021-06-12T13:26:40.118919",
     "exception": false,
     "start_time": "2021-06-12T13:26:40.083642",
     "status": "completed"
    },
    "tags": []
   },
   "source": [
    "## Dataset Description  "
   ]
  },
  {
   "cell_type": "markdown",
   "metadata": {
    "papermill": {
     "duration": 0.034837,
     "end_time": "2021-06-12T13:26:40.189306",
     "exception": false,
     "start_time": "2021-06-12T13:26:40.154469",
     "status": "completed"
    },
    "tags": []
   },
   "source": [
    "## Notebook Outline \n",
    "\n",
    "1. Package Installation\n",
    "2. Importing Libraries\n",
    "3. Loading the data\n",
    "    * Viewing Data\n",
    "4. Data Cleaning \n",
    "5. Exploratory Data Analysis\n",
    "\n"
   ]
  },
  {
   "cell_type": "markdown",
   "metadata": {
    "papermill": {
     "duration": 0.035427,
     "end_time": "2021-06-12T13:26:40.259855",
     "exception": false,
     "start_time": "2021-06-12T13:26:40.224428",
     "status": "completed"
    },
    "tags": []
   },
   "source": [
    "# Package Installation"
   ]
  },
  {
   "cell_type": "code",
   "execution_count": 1,
   "metadata": {
    "papermill": {
     "duration": 0.034682,
     "end_time": "2021-06-12T13:26:40.329766",
     "exception": false,
     "start_time": "2021-06-12T13:26:40.295084",
     "status": "completed"
    },
    "tags": []
   },
   "outputs": [
    {
     "name": "stdout",
     "output_type": "stream",
     "text": [
      "Collecting comet_ml\n",
      "  Downloading comet_ml-3.12.0-py2.py3-none-any.whl (270 kB)\n",
      "Collecting websocket-client>=0.55.0\n",
      "  Downloading websocket_client-1.1.0-py2.py3-none-any.whl (68 kB)\n",
      "Collecting nvidia-ml-py3>=7.352.0\n",
      "  Downloading nvidia-ml-py3-7.352.0.tar.gz (19 kB)\n",
      "Collecting semantic-version>=2.8.0\n",
      "  Downloading semantic_version-2.8.5-py2.py3-none-any.whl (15 kB)\n",
      "Collecting dulwich>=0.20.6; python_version >= \"3.0\"\n",
      "  Downloading dulwich-0.20.23-cp38-cp38-win_amd64.whl (486 kB)\n",
      "Collecting requests-toolbelt>=0.8.0\n",
      "  Downloading requests_toolbelt-0.9.1-py2.py3-none-any.whl (54 kB)\n",
      "Requirement already satisfied: jsonschema!=3.1.0,>=2.6.0 in c:\\users\\emanuel\\anaconda3\\lib\\site-packages (from comet_ml) (3.2.0)\n",
      "Collecting everett[ini]>=1.0.1; python_version >= \"3.0\"\n",
      "  Downloading everett-1.0.3-py2.py3-none-any.whl (31 kB)\n",
      "Requirement already satisfied: requests>=2.18.4 in c:\\users\\emanuel\\anaconda3\\lib\\site-packages (from comet_ml) (2.24.0)\n",
      "Collecting wurlitzer>=1.0.2\n",
      "  Downloading wurlitzer-2.1.0-py2.py3-none-any.whl (6.2 kB)\n",
      "Requirement already satisfied: wrapt>=1.11.2 in c:\\users\\emanuel\\anaconda3\\lib\\site-packages (from comet_ml) (1.11.2)\n",
      "Requirement already satisfied: six in c:\\users\\emanuel\\anaconda3\\lib\\site-packages (from comet_ml) (1.15.0)\n",
      "Requirement already satisfied: certifi in c:\\users\\emanuel\\anaconda3\\lib\\site-packages (from dulwich>=0.20.6; python_version >= \"3.0\"->comet_ml) (2020.6.20)\n",
      "Requirement already satisfied: urllib3>=1.24.1 in c:\\users\\emanuel\\anaconda3\\lib\\site-packages (from dulwich>=0.20.6; python_version >= \"3.0\"->comet_ml) (1.25.9)\n",
      "Requirement already satisfied: attrs>=17.4.0 in c:\\users\\emanuel\\anaconda3\\lib\\site-packages (from jsonschema!=3.1.0,>=2.6.0->comet_ml) (19.3.0)\n",
      "Requirement already satisfied: setuptools in c:\\users\\emanuel\\anaconda3\\lib\\site-packages (from jsonschema!=3.1.0,>=2.6.0->comet_ml) (49.2.0.post20200714)\n",
      "Requirement already satisfied: pyrsistent>=0.14.0 in c:\\users\\emanuel\\anaconda3\\lib\\site-packages (from jsonschema!=3.1.0,>=2.6.0->comet_ml) (0.16.0)\n",
      "Collecting configobj; extra == \"ini\"\n",
      "  Downloading configobj-5.0.6.tar.gz (33 kB)\n",
      "Requirement already satisfied: chardet<4,>=3.0.2 in c:\\users\\emanuel\\anaconda3\\lib\\site-packages (from requests>=2.18.4->comet_ml) (3.0.4)\n",
      "Requirement already satisfied: idna<3,>=2.5 in c:\\users\\emanuel\\anaconda3\\lib\\site-packages (from requests>=2.18.4->comet_ml) (2.10)\n",
      "Building wheels for collected packages: nvidia-ml-py3, configobj\n",
      "  Building wheel for nvidia-ml-py3 (setup.py): started\n",
      "  Building wheel for nvidia-ml-py3 (setup.py): finished with status 'done'\n",
      "  Created wheel for nvidia-ml-py3: filename=nvidia_ml_py3-7.352.0-py3-none-any.whl size=19196 sha256=12c73afc6baec980282f8148146e0e6a766add97c918f473fe2d068f4f7fe6d3\n",
      "  Stored in directory: c:\\users\\emanuel\\appdata\\local\\pip\\cache\\wheels\\b9\\b1\\68\\cb4feab29709d4155310d29a421389665dcab9eb3b679b527b\n",
      "  Building wheel for configobj (setup.py): started\n",
      "  Building wheel for configobj (setup.py): finished with status 'done'\n",
      "  Created wheel for configobj: filename=configobj-5.0.6-py3-none-any.whl size=34549 sha256=e08acd383688c84301a9b4645d3a7b646bc5c1ea10756cd1200d278284f03853\n",
      "  Stored in directory: c:\\users\\emanuel\\appdata\\local\\pip\\cache\\wheels\\34\\2a\\24\\a490264ae9041fd48f778ff393526572c80bb498ddecb07ea5\n",
      "Successfully built nvidia-ml-py3 configobj\n",
      "Installing collected packages: websocket-client, nvidia-ml-py3, semantic-version, dulwich, requests-toolbelt, configobj, everett, wurlitzer, comet-ml\n",
      "Successfully installed comet-ml-3.12.0 configobj-5.0.6 dulwich-0.20.23 everett-1.0.3 nvidia-ml-py3-7.352.0 requests-toolbelt-0.9.1 semantic-version-2.8.5 websocket-client-1.1.0 wurlitzer-2.1.0\n"
     ]
    },
    {
     "name": "stderr",
     "output_type": "stream",
     "text": [
      "COMET WARNING: As you are running in a Jupyter environment, you will need to call `experiment.end()` when finished to ensure all metrics and code are logged before exiting.\n",
      "COMET INFO: Experiment is live on comet.ml https://www.comet.ml/neyocreator/mm2/fbf5be29b1144f2784947786a9801042\n",
      "\n"
     ]
    }
   ],
   "source": [
    "#install package\n",
    "!pip install comet_ml\n",
    "\n",
    "# import comet_ml at the top of your file\n",
    "from comet_ml import Experiment\n",
    "\n",
    "# Create an experiment with your api key\n",
    "experiment = Experiment(\n",
    "    api_key=\"4EuEqkOjsIwdXE8VWzNi6bLvx\",\n",
    "    project_name=\"mm2\",\n",
    "    workspace=\"neyocreator\",\n",
    ")"
   ]
  },
  {
   "cell_type": "markdown",
   "metadata": {
    "papermill": {
     "duration": 0.042829,
     "end_time": "2021-06-12T13:26:40.409102",
     "exception": false,
     "start_time": "2021-06-12T13:26:40.366273",
     "status": "completed"
    },
    "tags": []
   },
   "source": [
    "# Importing Libraries "
   ]
  },
  {
   "cell_type": "code",
   "execution_count": 1,
   "metadata": {
    "papermill": {
     "duration": 1.802301,
     "end_time": "2021-06-12T13:26:42.262090",
     "exception": false,
     "start_time": "2021-06-12T13:26:40.459789",
     "status": "completed"
    },
    "tags": []
   },
   "outputs": [],
   "source": [
    "import numpy as np # linear algebra\n",
    "import pandas as pd # data processing\n",
    "\n",
    "##Data Cleaning\n",
    "import nltk #\n",
    "import itertools\n",
    "import string #to remove all punctuation marks in the corpus/ document\n",
    "from nltk.tokenize import word_tokenize, TreebankWordTokenizer\n",
    "from nltk import SnowballStemmer, PorterStemmer, LancasterStemmer\n",
    "from nltk.stem import WordNetLemmatizer\n",
    "from nltk.corpus import stopwords\n",
    "\n",
    "from nltk.probability import FreqDist\n",
    "from wordcloud import WordCloud, ImageColorGenerator\n",
    "\n",
    "from sklearn.model_selection import train_test_split\n",
    "\n",
    "import matplotlib.pyplot as plt\n",
    "import seaborn as sns\n",
    "%matplotlib inline\n",
    "import re\n",
    "\n",
    "ps = nltk.PorterStemmer()\n",
    "\n",
    "from sklearn.metrics import classification_report, accuracy_score\n",
    "# set plot style\n",
    "sns.set()\n",
    "# set plot style\n",
    "sns.set()"
   ]
  },
  {
   "cell_type": "markdown",
   "metadata": {
    "papermill": {
     "duration": 0.035823,
     "end_time": "2021-06-12T13:26:42.333951",
     "exception": false,
     "start_time": "2021-06-12T13:26:42.298128",
     "status": "completed"
    },
    "tags": []
   },
   "source": [
    "# Loading Data "
   ]
  },
  {
   "cell_type": "code",
   "execution_count": 2,
   "metadata": {
    "papermill": {
     "duration": 0.412432,
     "end_time": "2021-06-12T13:26:42.782215",
     "exception": false,
     "start_time": "2021-06-12T13:26:42.369783",
     "status": "completed"
    },
    "tags": []
   },
   "outputs": [],
   "source": [
    "df_test = pd.read_csv(\"~/Downloads/Explore/Machine Learning/Advanced Classification/Advanced_Classification_Predict-student_data-2780/first_/first_/test.csv\")\n",
    "\n",
    "df_train = pd.read_csv('~/Downloads/Explore/Machine Learning/Advanced Classification/Advanced_Classification_Predict-student_data-2780/first_/first_/train.csv')"
   ]
  },
  {
   "cell_type": "markdown",
   "metadata": {
    "papermill": {
     "duration": 0.034826,
     "end_time": "2021-06-12T13:26:42.852646",
     "exception": false,
     "start_time": "2021-06-12T13:26:42.817820",
     "status": "completed"
    },
    "tags": []
   },
   "source": [
    "### Viewing the Data"
   ]
  },
  {
   "cell_type": "code",
   "execution_count": 3,
   "metadata": {
    "papermill": {
     "duration": 0.067055,
     "end_time": "2021-06-12T13:26:42.954782",
     "exception": false,
     "start_time": "2021-06-12T13:26:42.887727",
     "status": "completed"
    },
    "tags": []
   },
   "outputs": [
    {
     "data": {
      "text/html": [
       "<div>\n",
       "<style scoped>\n",
       "    .dataframe tbody tr th:only-of-type {\n",
       "        vertical-align: middle;\n",
       "    }\n",
       "\n",
       "    .dataframe tbody tr th {\n",
       "        vertical-align: top;\n",
       "    }\n",
       "\n",
       "    .dataframe thead th {\n",
       "        text-align: right;\n",
       "    }\n",
       "</style>\n",
       "<table border=\"1\" class=\"dataframe\">\n",
       "  <thead>\n",
       "    <tr style=\"text-align: right;\">\n",
       "      <th></th>\n",
       "      <th>sentiment</th>\n",
       "      <th>message</th>\n",
       "      <th>tweetid</th>\n",
       "    </tr>\n",
       "  </thead>\n",
       "  <tbody>\n",
       "    <tr>\n",
       "      <th>0</th>\n",
       "      <td>1</td>\n",
       "      <td>PolySciMajor EPA chief doesn't think carbon di...</td>\n",
       "      <td>625221</td>\n",
       "    </tr>\n",
       "    <tr>\n",
       "      <th>1</th>\n",
       "      <td>1</td>\n",
       "      <td>It's not like we lack evidence of anthropogeni...</td>\n",
       "      <td>126103</td>\n",
       "    </tr>\n",
       "    <tr>\n",
       "      <th>2</th>\n",
       "      <td>2</td>\n",
       "      <td>RT @RawStory: Researchers say we have three ye...</td>\n",
       "      <td>698562</td>\n",
       "    </tr>\n",
       "    <tr>\n",
       "      <th>3</th>\n",
       "      <td>1</td>\n",
       "      <td>#TodayinMaker# WIRED : 2016 was a pivotal year...</td>\n",
       "      <td>573736</td>\n",
       "    </tr>\n",
       "    <tr>\n",
       "      <th>4</th>\n",
       "      <td>1</td>\n",
       "      <td>RT @SoyNovioDeTodas: It's 2016, and a racist, ...</td>\n",
       "      <td>466954</td>\n",
       "    </tr>\n",
       "  </tbody>\n",
       "</table>\n",
       "</div>"
      ],
      "text/plain": [
       "   sentiment                                            message  tweetid\n",
       "0          1  PolySciMajor EPA chief doesn't think carbon di...   625221\n",
       "1          1  It's not like we lack evidence of anthropogeni...   126103\n",
       "2          2  RT @RawStory: Researchers say we have three ye...   698562\n",
       "3          1  #TodayinMaker# WIRED : 2016 was a pivotal year...   573736\n",
       "4          1  RT @SoyNovioDeTodas: It's 2016, and a racist, ...   466954"
      ]
     },
     "execution_count": 3,
     "metadata": {},
     "output_type": "execute_result"
    }
   ],
   "source": [
    "df_train.head()"
   ]
  },
  {
   "cell_type": "code",
   "execution_count": 4,
   "metadata": {
    "papermill": {
     "duration": 0.050515,
     "end_time": "2021-06-12T13:26:43.041615",
     "exception": false,
     "start_time": "2021-06-12T13:26:42.991100",
     "status": "completed"
    },
    "tags": []
   },
   "outputs": [
    {
     "data": {
      "text/html": [
       "<div>\n",
       "<style scoped>\n",
       "    .dataframe tbody tr th:only-of-type {\n",
       "        vertical-align: middle;\n",
       "    }\n",
       "\n",
       "    .dataframe tbody tr th {\n",
       "        vertical-align: top;\n",
       "    }\n",
       "\n",
       "    .dataframe thead th {\n",
       "        text-align: right;\n",
       "    }\n",
       "</style>\n",
       "<table border=\"1\" class=\"dataframe\">\n",
       "  <thead>\n",
       "    <tr style=\"text-align: right;\">\n",
       "      <th></th>\n",
       "      <th>message</th>\n",
       "      <th>tweetid</th>\n",
       "    </tr>\n",
       "  </thead>\n",
       "  <tbody>\n",
       "    <tr>\n",
       "      <th>0</th>\n",
       "      <td>Europe will now be looking to China to make su...</td>\n",
       "      <td>169760</td>\n",
       "    </tr>\n",
       "    <tr>\n",
       "      <th>1</th>\n",
       "      <td>Combine this with the polling of staffers re c...</td>\n",
       "      <td>35326</td>\n",
       "    </tr>\n",
       "    <tr>\n",
       "      <th>2</th>\n",
       "      <td>The scary, unimpeachable evidence that climate...</td>\n",
       "      <td>224985</td>\n",
       "    </tr>\n",
       "    <tr>\n",
       "      <th>3</th>\n",
       "      <td>@Karoli @morgfair @OsborneInk @dailykos \\nPuti...</td>\n",
       "      <td>476263</td>\n",
       "    </tr>\n",
       "    <tr>\n",
       "      <th>4</th>\n",
       "      <td>RT @FakeWillMoore: 'Female orgasms cause globa...</td>\n",
       "      <td>872928</td>\n",
       "    </tr>\n",
       "  </tbody>\n",
       "</table>\n",
       "</div>"
      ],
      "text/plain": [
       "                                             message  tweetid\n",
       "0  Europe will now be looking to China to make su...   169760\n",
       "1  Combine this with the polling of staffers re c...    35326\n",
       "2  The scary, unimpeachable evidence that climate...   224985\n",
       "3  @Karoli @morgfair @OsborneInk @dailykos \\nPuti...   476263\n",
       "4  RT @FakeWillMoore: 'Female orgasms cause globa...   872928"
      ]
     },
     "execution_count": 4,
     "metadata": {},
     "output_type": "execute_result"
    }
   ],
   "source": [
    "df_test.head()"
   ]
  },
  {
   "cell_type": "code",
   "execution_count": 5,
   "metadata": {
    "execution": {
     "iopub.execute_input": "2021-06-12T13:26:43.123198Z",
     "iopub.status.busy": "2021-06-12T13:26:43.122319Z",
     "iopub.status.idle": "2021-06-12T13:26:43.127224Z",
     "shell.execute_reply": "2021-06-12T13:26:43.126718Z",
     "shell.execute_reply.started": "2021-06-09T18:46:37.229618Z"
    },
    "papermill": {
     "duration": 0.049826,
     "end_time": "2021-06-12T13:26:43.127361",
     "exception": false,
     "start_time": "2021-06-12T13:26:43.077535",
     "status": "completed"
    },
    "tags": []
   },
   "outputs": [
    {
     "data": {
      "text/html": [
       "<div>\n",
       "<style scoped>\n",
       "    .dataframe tbody tr th:only-of-type {\n",
       "        vertical-align: middle;\n",
       "    }\n",
       "\n",
       "    .dataframe tbody tr th {\n",
       "        vertical-align: top;\n",
       "    }\n",
       "\n",
       "    .dataframe thead th {\n",
       "        text-align: right;\n",
       "    }\n",
       "</style>\n",
       "<table border=\"1\" class=\"dataframe\">\n",
       "  <thead>\n",
       "    <tr style=\"text-align: right;\">\n",
       "      <th></th>\n",
       "      <th>tweetid</th>\n",
       "      <th>sentiment</th>\n",
       "    </tr>\n",
       "  </thead>\n",
       "  <tbody>\n",
       "    <tr>\n",
       "      <th>0</th>\n",
       "      <td>169760</td>\n",
       "      <td>1</td>\n",
       "    </tr>\n",
       "    <tr>\n",
       "      <th>1</th>\n",
       "      <td>35326</td>\n",
       "      <td>1</td>\n",
       "    </tr>\n",
       "    <tr>\n",
       "      <th>2</th>\n",
       "      <td>224985</td>\n",
       "      <td>1</td>\n",
       "    </tr>\n",
       "    <tr>\n",
       "      <th>3</th>\n",
       "      <td>476263</td>\n",
       "      <td>1</td>\n",
       "    </tr>\n",
       "    <tr>\n",
       "      <th>4</th>\n",
       "      <td>872928</td>\n",
       "      <td>1</td>\n",
       "    </tr>\n",
       "  </tbody>\n",
       "</table>\n",
       "</div>"
      ],
      "text/plain": [
       "   tweetid  sentiment\n",
       "0   169760          1\n",
       "1    35326          1\n",
       "2   224985          1\n",
       "3   476263          1\n",
       "4   872928          1"
      ]
     },
     "execution_count": 5,
     "metadata": {},
     "output_type": "execute_result"
    }
   ],
   "source": [
    "df_sample.head()"
   ]
  },
  {
   "cell_type": "code",
   "execution_count": 5,
   "metadata": {
    "papermill": {
     "duration": 0.050099,
     "end_time": "2021-06-12T13:26:43.214071",
     "exception": false,
     "start_time": "2021-06-12T13:26:43.163972",
     "status": "completed"
    },
    "tags": []
   },
   "outputs": [
    {
     "name": "stdout",
     "output_type": "stream",
     "text": [
      "The shape of the training set is:\n",
      "(15819, 3)\n",
      "The shape of the testing set is:\n",
      "(10546, 2)\n",
      "the total entries of the dataset\n",
      "26365\n"
     ]
    }
   ],
   "source": [
    "# checking the dataset Dimensions\n",
    "print(\"The shape of the training set is:\")\n",
    "print(df_train.shape) \n",
    "print(\"The shape of the testing set is:\")\n",
    "print(df_test.shape)\n",
    "# adding the rows of both training and testing set for the total entries\n",
    "print(\"the total entries of the dataset\")\n",
    "print(len(df_train) + len(df_test))"
   ]
  },
  {
   "cell_type": "code",
   "execution_count": 7,
   "metadata": {
    "execution": {
     "iopub.execute_input": "2021-06-12T13:26:43.314260Z",
     "iopub.status.busy": "2021-06-12T13:26:43.313411Z",
     "iopub.status.idle": "2021-06-12T13:26:43.318221Z",
     "shell.execute_reply": "2021-06-12T13:26:43.317312Z",
     "shell.execute_reply.started": "2021-06-09T18:46:42.821559Z"
    },
    "papermill": {
     "duration": 0.066064,
     "end_time": "2021-06-12T13:26:43.318434",
     "exception": false,
     "start_time": "2021-06-12T13:26:43.252370",
     "status": "completed"
    },
    "tags": []
   },
   "outputs": [
    {
     "name": "stdout",
     "output_type": "stream",
     "text": [
      "<class 'pandas.core.frame.DataFrame'>\n",
      "RangeIndex: 15819 entries, 0 to 15818\n",
      "Data columns (total 3 columns):\n",
      " #   Column     Non-Null Count  Dtype \n",
      "---  ------     --------------  ----- \n",
      " 0   sentiment  15819 non-null  int64 \n",
      " 1   message    15819 non-null  object\n",
      " 2   tweetid    15819 non-null  int64 \n",
      "dtypes: int64(2), object(1)\n",
      "memory usage: 370.9+ KB\n"
     ]
    }
   ],
   "source": [
    "df_train.info()"
   ]
  },
  {
   "cell_type": "markdown",
   "metadata": {
    "papermill": {
     "duration": 0.037218,
     "end_time": "2021-06-12T13:26:43.394491",
     "exception": false,
     "start_time": "2021-06-12T13:26:43.357273",
     "status": "completed"
    },
    "tags": []
   },
   "source": [
    "Data has 3 columns, numeric and string data types, 15819 tweets and no missing values. Below is the type of sentiments the data contains"
   ]
  },
  {
   "cell_type": "code",
   "execution_count": 6,
   "metadata": {
    "papermill": {
     "duration": 0.066343,
     "end_time": "2021-06-12T13:26:43.498432",
     "exception": false,
     "start_time": "2021-06-12T13:26:43.432089",
     "status": "completed"
    },
    "tags": []
   },
   "outputs": [
    {
     "data": {
      "text/plain": [
       "(14229, 3)"
      ]
     },
     "execution_count": 6,
     "metadata": {},
     "output_type": "execute_result"
    }
   ],
   "source": [
    "#remove any duplicate tweets - tweets the same text as other tweets, \n",
    "#for instance multiple retweets of the same original tweet.\n",
    "\n",
    "df_train.drop_duplicates(subset='message',inplace=True)\n",
    "df_train.shape"
   ]
  },
  {
   "cell_type": "markdown",
   "metadata": {
    "papermill": {
     "duration": 0.038442,
     "end_time": "2021-06-12T13:26:43.575542",
     "exception": false,
     "start_time": "2021-06-12T13:26:43.537100",
     "status": "completed"
    },
    "tags": []
   },
   "source": [
    "We have a difference of 1 590 duplicated tweets which we dropped. From the 14229 entries left, lets try to see how many sentiments we have"
   ]
  },
  {
   "cell_type": "code",
   "execution_count": 7,
   "metadata": {
    "papermill": {
     "duration": 0.051413,
     "end_time": "2021-06-12T13:26:43.665074",
     "exception": false,
     "start_time": "2021-06-12T13:26:43.613661",
     "status": "completed"
    },
    "tags": []
   },
   "outputs": [
    {
     "name": "stdout",
     "output_type": "stream",
     "text": [
      "[1, 2, 0, -1]\n"
     ]
    }
   ],
   "source": [
    "type_sentiment = list(df_train.sentiment.unique())\n",
    "print(type_sentiment)"
   ]
  },
  {
   "cell_type": "markdown",
   "metadata": {
    "papermill": {
     "duration": 0.037836,
     "end_time": "2021-06-12T13:26:43.741241",
     "exception": false,
     "start_time": "2021-06-12T13:26:43.703405",
     "status": "completed"
    },
    "tags": []
   },
   "source": [
    "We have 4 types of sentiments in our dataset. Now lets see how many data samples we have for each sentiment"
   ]
  },
  {
   "cell_type": "code",
   "execution_count": 8,
   "metadata": {
    "papermill": {
     "duration": 0.254057,
     "end_time": "2021-06-12T13:26:44.033999",
     "exception": false,
     "start_time": "2021-06-12T13:26:43.779942",
     "status": "completed"
    },
    "tags": []
   },
   "outputs": [
    {
     "data": {
      "image/png": "[encoded data removed]",
      "text/plain": [
       "<Figure size 432x288 with 1 Axes>"
      ]
     },
     "metadata": {},
     "output_type": "display_data"
    }
   ],
   "source": [
    "df_train['sentiment'].value_counts().plot(kind = 'bar')\n",
    "plt.show()"
   ]
  },
  {
   "cell_type": "markdown",
   "metadata": {},
   "source": [
    "**Up-sample Minority Class**\n",
    "\n",
    "Up-sampling is the process of randomly duplicating observations from the minority class in order to reinforce its signal.\n",
    "\n",
    "There are several heuristics for doing so, but the most common way is to simply resample with replacement.\n",
    "\n",
    "First, we'll import the resampling module from Scikit-Learn:"
   ]
  },
  {
   "cell_type": "code",
   "execution_count": 9,
   "metadata": {},
   "outputs": [
    {
     "name": "stdout",
     "output_type": "stream",
     "text": [
      " 1    7222\n",
      " 2    3542\n",
      " 0    2244\n",
      "-1    1221\n",
      "Name: sentiment, dtype: int64\n"
     ]
    }
   ],
   "source": [
    "print(df_train['sentiment'].value_counts())"
   ]
  },
  {
   "cell_type": "code",
   "execution_count": 10,
   "metadata": {},
   "outputs": [],
   "source": [
    "from sklearn.utils import resample"
   ]
  },
  {
   "cell_type": "code",
   "execution_count": 14,
   "metadata": {},
   "outputs": [
    {
     "data": {
      "text/plain": [
       "-1    3640\n",
       " 1    3640\n",
       " 0    3640\n",
       " 2    3542\n",
       "Name: sentiment, dtype: int64"
      ]
     },
     "execution_count": 14,
     "metadata": {},
     "output_type": "execute_result"
    }
   ],
   "source": [
    "# Separate majority and minority classes\n",
    "df_majority = df_train[df_train.sentiment==1]\n",
    "df_minority2 = df_train[df_train.sentiment==2]\n",
    "df_minority0 = df_train[df_train.sentiment==0]\n",
    "df_minority1 = df_train[df_train.sentiment==-1]\n",
    " \n",
    "# Upsample minority class\n",
    "df_majority_downsampled = resample(df_majority, \n",
    "                                 replace=False,     # sample with replacement\n",
    "                                 n_samples=3640,    # to match majority class\n",
    "                                 random_state=123) # reproducible results\n",
    "\n",
    "df_minority0_upsampled = resample(df_minority0, \n",
    "                                 replace=True,     # sample with replacement\n",
    "                                 n_samples=3640,    # to match majority class\n",
    "                                 random_state=123) # reproducible results\n",
    "\n",
    "df_minority1_upsampled = resample(df_minority1, \n",
    "                                 replace=True,     # sample with replacement\n",
    "                                 n_samples=3640,    # to match majority class\n",
    "                                 random_state=123) # reproducible results\n",
    " \n",
    "# Combine majority class with upsampled minority class\n",
    "train = pd.concat([df_minority2, df_majority_downsampled,df_minority0_upsampled,df_minority1_upsampled])\n",
    " \n",
    "# Display new class counts\n",
    "train.sentiment.value_counts()"
   ]
  },
  {
   "cell_type": "code",
   "execution_count": null,
   "metadata": {},
   "outputs": [],
   "source": []
  },
  {
   "cell_type": "code",
   "execution_count": 15,
   "metadata": {},
   "outputs": [
    {
     "data": {
      "text/html": [
       "<div>\n",
       "<style scoped>\n",
       "    .dataframe tbody tr th:only-of-type {\n",
       "        vertical-align: middle;\n",
       "    }\n",
       "\n",
       "    .dataframe tbody tr th {\n",
       "        vertical-align: top;\n",
       "    }\n",
       "\n",
       "    .dataframe thead th {\n",
       "        text-align: right;\n",
       "    }\n",
       "</style>\n",
       "<table border=\"1\" class=\"dataframe\">\n",
       "  <thead>\n",
       "    <tr style=\"text-align: right;\">\n",
       "      <th></th>\n",
       "      <th>sentiment</th>\n",
       "      <th>message</th>\n",
       "      <th>tweetid</th>\n",
       "    </tr>\n",
       "  </thead>\n",
       "  <tbody>\n",
       "    <tr>\n",
       "      <th>2</th>\n",
       "      <td>2</td>\n",
       "      <td>RT @RawStory: Researchers say we have three ye...</td>\n",
       "      <td>698562</td>\n",
       "    </tr>\n",
       "    <tr>\n",
       "      <th>12</th>\n",
       "      <td>2</td>\n",
       "      <td>RT @tveitdal: We only have a 5 percent chance ...</td>\n",
       "      <td>454673</td>\n",
       "    </tr>\n",
       "    <tr>\n",
       "      <th>14</th>\n",
       "      <td>2</td>\n",
       "      <td>Fossil fuel giant ExxonMobil ‘misled’ the publ...</td>\n",
       "      <td>658092</td>\n",
       "    </tr>\n",
       "    <tr>\n",
       "      <th>26</th>\n",
       "      <td>2</td>\n",
       "      <td>Bangladesh confronting climate change head on ...</td>\n",
       "      <td>365291</td>\n",
       "    </tr>\n",
       "    <tr>\n",
       "      <th>32</th>\n",
       "      <td>2</td>\n",
       "      <td>RT @latimes: Atmospheric rivers fueled by clim...</td>\n",
       "      <td>143471</td>\n",
       "    </tr>\n",
       "  </tbody>\n",
       "</table>\n",
       "</div>"
      ],
      "text/plain": [
       "    sentiment                                            message  tweetid\n",
       "2           2  RT @RawStory: Researchers say we have three ye...   698562\n",
       "12          2  RT @tveitdal: We only have a 5 percent chance ...   454673\n",
       "14          2  Fossil fuel giant ExxonMobil ‘misled’ the publ...   658092\n",
       "26          2  Bangladesh confronting climate change head on ...   365291\n",
       "32          2  RT @latimes: Atmospheric rivers fueled by clim...   143471"
      ]
     },
     "execution_count": 15,
     "metadata": {},
     "output_type": "execute_result"
    }
   ],
   "source": [
    "train.head()"
   ]
  },
  {
   "cell_type": "code",
   "execution_count": 16,
   "metadata": {},
   "outputs": [
    {
     "data": {
      "image/png": "[encoded data removed]",
      "text/plain": [
       "<Figure size 432x288 with 1 Axes>"
      ]
     },
     "metadata": {},
     "output_type": "display_data"
    }
   ],
   "source": [
    "train['sentiment'].value_counts().plot(kind = 'bar')\n",
    "plt.show()"
   ]
  },
  {
   "cell_type": "markdown",
   "metadata": {
    "papermill": {
     "duration": 0.038205,
     "end_time": "2021-06-12T13:26:44.111413",
     "exception": false,
     "start_time": "2021-06-12T13:26:44.073208",
     "status": "completed"
    },
    "tags": []
   },
   "source": [
    "## Data Cleaning "
   ]
  },
  {
   "cell_type": "code",
   "execution_count": null,
   "metadata": {},
   "outputs": [],
   "source": []
  },
  {
   "cell_type": "markdown",
   "metadata": {
    "papermill": {
     "duration": 0.039298,
     "end_time": "2021-06-12T13:26:44.190570",
     "exception": false,
     "start_time": "2021-06-12T13:26:44.151272",
     "status": "completed"
    },
    "tags": []
   },
   "source": [
    "Removing Noise In text analytics, removing noise (i.e. unneccesary information) is a key part of getting the data into a usable format. Our data contains uppercase letters, special characters as urls, these needs to be removed in the data cleaning process"
   ]
  },
  {
   "cell_type": "code",
   "execution_count": 17,
   "metadata": {
    "papermill": {
     "duration": 0.05751,
     "end_time": "2021-06-12T13:26:44.287111",
     "exception": false,
     "start_time": "2021-06-12T13:26:44.229601",
     "status": "completed"
    },
    "tags": []
   },
   "outputs": [
    {
     "data": {
      "text/html": [
       "<div>\n",
       "<style scoped>\n",
       "    .dataframe tbody tr th:only-of-type {\n",
       "        vertical-align: middle;\n",
       "    }\n",
       "\n",
       "    .dataframe tbody tr th {\n",
       "        vertical-align: top;\n",
       "    }\n",
       "\n",
       "    .dataframe thead th {\n",
       "        text-align: right;\n",
       "    }\n",
       "</style>\n",
       "<table border=\"1\" class=\"dataframe\">\n",
       "  <thead>\n",
       "    <tr style=\"text-align: right;\">\n",
       "      <th></th>\n",
       "      <th>sentiment</th>\n",
       "      <th>message</th>\n",
       "      <th>tweetid</th>\n",
       "    </tr>\n",
       "  </thead>\n",
       "  <tbody>\n",
       "    <tr>\n",
       "      <th>2</th>\n",
       "      <td>2</td>\n",
       "      <td>RT @RawStory: Researchers say we have three ye...</td>\n",
       "      <td>698562</td>\n",
       "    </tr>\n",
       "    <tr>\n",
       "      <th>12</th>\n",
       "      <td>2</td>\n",
       "      <td>RT @tveitdal: We only have a 5 percent chance ...</td>\n",
       "      <td>454673</td>\n",
       "    </tr>\n",
       "    <tr>\n",
       "      <th>14</th>\n",
       "      <td>2</td>\n",
       "      <td>Fossil fuel giant ExxonMobil ‘misled’ the publ...</td>\n",
       "      <td>658092</td>\n",
       "    </tr>\n",
       "    <tr>\n",
       "      <th>26</th>\n",
       "      <td>2</td>\n",
       "      <td>Bangladesh confronting climate change head on ...</td>\n",
       "      <td>365291</td>\n",
       "    </tr>\n",
       "    <tr>\n",
       "      <th>32</th>\n",
       "      <td>2</td>\n",
       "      <td>RT @latimes: Atmospheric rivers fueled by clim...</td>\n",
       "      <td>143471</td>\n",
       "    </tr>\n",
       "  </tbody>\n",
       "</table>\n",
       "</div>"
      ],
      "text/plain": [
       "    sentiment                                            message  tweetid\n",
       "2           2  RT @RawStory: Researchers say we have three ye...   698562\n",
       "12          2  RT @tveitdal: We only have a 5 percent chance ...   454673\n",
       "14          2  Fossil fuel giant ExxonMobil ‘misled’ the publ...   658092\n",
       "26          2  Bangladesh confronting climate change head on ...   365291\n",
       "32          2  RT @latimes: Atmospheric rivers fueled by clim...   143471"
      ]
     },
     "execution_count": 17,
     "metadata": {},
     "output_type": "execute_result"
    }
   ],
   "source": [
    "train.head()"
   ]
  },
  {
   "cell_type": "code",
   "execution_count": 18,
   "metadata": {
    "papermill": {
     "duration": 1.379856,
     "end_time": "2021-06-12T13:26:45.707489",
     "exception": false,
     "start_time": "2021-06-12T13:26:44.327633",
     "status": "completed"
    },
    "tags": []
   },
   "outputs": [
    {
     "data": {
      "text/html": [
       "<div>\n",
       "<style scoped>\n",
       "    .dataframe tbody tr th:only-of-type {\n",
       "        vertical-align: middle;\n",
       "    }\n",
       "\n",
       "    .dataframe tbody tr th {\n",
       "        vertical-align: top;\n",
       "    }\n",
       "\n",
       "    .dataframe thead th {\n",
       "        text-align: right;\n",
       "    }\n",
       "</style>\n",
       "<table border=\"1\" class=\"dataframe\">\n",
       "  <thead>\n",
       "    <tr style=\"text-align: right;\">\n",
       "      <th></th>\n",
       "      <th>sentiment</th>\n",
       "      <th>message</th>\n",
       "      <th>tweetid</th>\n",
       "      <th>prep_text</th>\n",
       "    </tr>\n",
       "  </thead>\n",
       "  <tbody>\n",
       "    <tr>\n",
       "      <th>2</th>\n",
       "      <td>2</td>\n",
       "      <td>RT @RawStory: Researchers say we have three ye...</td>\n",
       "      <td>698562</td>\n",
       "      <td>researchers say have three years act climate c...</td>\n",
       "    </tr>\n",
       "    <tr>\n",
       "      <th>12</th>\n",
       "      <td>2</td>\n",
       "      <td>RT @tveitdal: We only have a 5 percent chance ...</td>\n",
       "      <td>454673</td>\n",
       "      <td>only have percent chance avoiding dangerous gl...</td>\n",
       "    </tr>\n",
       "    <tr>\n",
       "      <th>14</th>\n",
       "      <td>2</td>\n",
       "      <td>Fossil fuel giant ExxonMobil ‘misled’ the publ...</td>\n",
       "      <td>658092</td>\n",
       "      <td>fossil fuel giant exxon mobil misled the publi...</td>\n",
       "    </tr>\n",
       "    <tr>\n",
       "      <th>26</th>\n",
       "      <td>2</td>\n",
       "      <td>Bangladesh confronting climate change head on ...</td>\n",
       "      <td>365291</td>\n",
       "      <td>bangladesh confronting climate change head tqe...</td>\n",
       "    </tr>\n",
       "    <tr>\n",
       "      <th>32</th>\n",
       "      <td>2</td>\n",
       "      <td>RT @latimes: Atmospheric rivers fueled by clim...</td>\n",
       "      <td>143471</td>\n",
       "      <td>atmospheric rivers fueled climate change could...</td>\n",
       "    </tr>\n",
       "    <tr>\n",
       "      <th>36</th>\n",
       "      <td>2</td>\n",
       "      <td>RT @Independent: Trump's team removed climate ...</td>\n",
       "      <td>526603</td>\n",
       "      <td>trumps team removed climate change data from t...</td>\n",
       "    </tr>\n",
       "    <tr>\n",
       "      <th>41</th>\n",
       "      <td>2</td>\n",
       "      <td>2050 climate targets: nations are playing the ...</td>\n",
       "      <td>8984</td>\n",
       "      <td>climate targets nations are playing the long g...</td>\n",
       "    </tr>\n",
       "    <tr>\n",
       "      <th>44</th>\n",
       "      <td>2</td>\n",
       "      <td>RT @washingtonpost: The Alaskan tundra is fill...</td>\n",
       "      <td>905639</td>\n",
       "      <td>the alaskan tundra filling the atmosphere with...</td>\n",
       "    </tr>\n",
       "    <tr>\n",
       "      <th>45</th>\n",
       "      <td>2</td>\n",
       "      <td>RT @TheTorontoSun: From @sunlorrie: Indian env...</td>\n",
       "      <td>741568</td>\n",
       "      <td>from indian environmentalist calls out caprio ...</td>\n",
       "    </tr>\n",
       "    <tr>\n",
       "      <th>49</th>\n",
       "      <td>2</td>\n",
       "      <td>RT @Starbuck: World food supplies at risk as #...</td>\n",
       "      <td>499888</td>\n",
       "      <td>world food supplies risk climate change threat...</td>\n",
       "    </tr>\n",
       "  </tbody>\n",
       "</table>\n",
       "</div>"
      ],
      "text/plain": [
       "    sentiment                                            message  tweetid  \\\n",
       "2           2  RT @RawStory: Researchers say we have three ye...   698562   \n",
       "12          2  RT @tveitdal: We only have a 5 percent chance ...   454673   \n",
       "14          2  Fossil fuel giant ExxonMobil ‘misled’ the publ...   658092   \n",
       "26          2  Bangladesh confronting climate change head on ...   365291   \n",
       "32          2  RT @latimes: Atmospheric rivers fueled by clim...   143471   \n",
       "36          2  RT @Independent: Trump's team removed climate ...   526603   \n",
       "41          2  2050 climate targets: nations are playing the ...     8984   \n",
       "44          2  RT @washingtonpost: The Alaskan tundra is fill...   905639   \n",
       "45          2  RT @TheTorontoSun: From @sunlorrie: Indian env...   741568   \n",
       "49          2  RT @Starbuck: World food supplies at risk as #...   499888   \n",
       "\n",
       "                                            prep_text  \n",
       "2   researchers say have three years act climate c...  \n",
       "12  only have percent chance avoiding dangerous gl...  \n",
       "14  fossil fuel giant exxon mobil misled the publi...  \n",
       "26  bangladesh confronting climate change head tqe...  \n",
       "32  atmospheric rivers fueled climate change could...  \n",
       "36  trumps team removed climate change data from t...  \n",
       "41  climate targets nations are playing the long g...  \n",
       "44  the alaskan tundra filling the atmosphere with...  \n",
       "45  from indian environmentalist calls out caprio ...  \n",
       "49  world food supplies risk climate change threat...  "
      ]
     },
     "execution_count": 18,
     "metadata": {},
     "output_type": "execute_result"
    }
   ],
   "source": [
    "#Function to clean data\n",
    "\n",
    "def clean(tweet):\n",
    "    tweet = re.sub(r'@[A-Za-z0-9]+','',tweet) #remove mentions\n",
    "    tweet = \" \".join([s for s in re.split(\"([A-Z][a-z]+[^A-Z]*)\", tweet) if s]) #split combined words\n",
    "    tweet = re.sub(r\"http\\S+\", \"\", tweet) #removes https\n",
    "    tweet = tweet.lower()\n",
    "    tweet = re.sub(r'[^\\w\\s]', '', tweet)\n",
    "    #tweet = ''.join([l for l in tweet if l not in string.punctuation]) #removes special characters\n",
    "    tweet = re.sub(r\"[-()\\\"#/@;:<>{}`+=~|.!?,]\", \"\", tweet)\n",
    "    tweet = ''.join(''.join(s)[:2] for _, s in itertools.groupby(tweet))\n",
    "    tweet = ' '.join([w for w in tweet.split() if len(w)>2]) #removes any small words less than 3\n",
    "    tweet = re.sub(\"\\S*\\d\\S*\", \"\", tweet).strip() #removes numbers and words with numbers\n",
    "    #tweet = re.sub(r'\\b\\d+(?:\\.\\d+)?\\s+', '', tweet) #removes numbers\n",
    "    return tweet\n",
    "\n",
    "train['prep_text'] = df_train['message'].apply(clean)\n",
    "\n",
    "train.head(10)"
   ]
  },
  {
   "cell_type": "code",
   "execution_count": 19,
   "metadata": {
    "papermill": {
     "duration": 0.057225,
     "end_time": "2021-06-12T13:26:45.805801",
     "exception": false,
     "start_time": "2021-06-12T13:26:45.748576",
     "status": "completed"
    },
    "tags": []
   },
   "outputs": [
    {
     "data": {
      "text/html": [
       "<div>\n",
       "<style scoped>\n",
       "    .dataframe tbody tr th:only-of-type {\n",
       "        vertical-align: middle;\n",
       "    }\n",
       "\n",
       "    .dataframe tbody tr th {\n",
       "        vertical-align: top;\n",
       "    }\n",
       "\n",
       "    .dataframe thead th {\n",
       "        text-align: right;\n",
       "    }\n",
       "</style>\n",
       "<table border=\"1\" class=\"dataframe\">\n",
       "  <thead>\n",
       "    <tr style=\"text-align: right;\">\n",
       "      <th></th>\n",
       "      <th>sentiment</th>\n",
       "      <th>message</th>\n",
       "      <th>tweetid</th>\n",
       "      <th>prep_text</th>\n",
       "    </tr>\n",
       "  </thead>\n",
       "  <tbody>\n",
       "    <tr>\n",
       "      <th>3660</th>\n",
       "      <td>-1</td>\n",
       "      <td>@thehill The ONLY remedy to cure global warmin...</td>\n",
       "      <td>3275</td>\n",
       "      <td>the only remedy cure global warming write chec...</td>\n",
       "    </tr>\n",
       "    <tr>\n",
       "      <th>5357</th>\n",
       "      <td>-1</td>\n",
       "      <td>RT @WalshFreedom: Trump picks someone to head ...</td>\n",
       "      <td>607528</td>\n",
       "      <td>trump picks someone head the epa who has the n...</td>\n",
       "    </tr>\n",
       "    <tr>\n",
       "      <th>227</th>\n",
       "      <td>-1</td>\n",
       "      <td>@zrastall17 climate change is #fakenews</td>\n",
       "      <td>3014</td>\n",
       "      <td>climate change fakenews</td>\n",
       "    </tr>\n",
       "    <tr>\n",
       "      <th>11468</th>\n",
       "      <td>-1</td>\n",
       "      <td>I know!! How come no one ever talks about the ...</td>\n",
       "      <td>601361</td>\n",
       "      <td>know how come one ever talks about the good ki...</td>\n",
       "    </tr>\n",
       "    <tr>\n",
       "      <th>4191</th>\n",
       "      <td>-1</td>\n",
       "      <td>RT @realDonaldTrump: They changed the name fro...</td>\n",
       "      <td>320842</td>\n",
       "      <td>they changed the name from global warming clim...</td>\n",
       "    </tr>\n",
       "  </tbody>\n",
       "</table>\n",
       "</div>"
      ],
      "text/plain": [
       "       sentiment                                            message  tweetid  \\\n",
       "3660          -1  @thehill The ONLY remedy to cure global warmin...     3275   \n",
       "5357          -1  RT @WalshFreedom: Trump picks someone to head ...   607528   \n",
       "227           -1            @zrastall17 climate change is #fakenews     3014   \n",
       "11468         -1  I know!! How come no one ever talks about the ...   601361   \n",
       "4191          -1  RT @realDonaldTrump: They changed the name fro...   320842   \n",
       "\n",
       "                                               prep_text  \n",
       "3660   the only remedy cure global warming write chec...  \n",
       "5357   trump picks someone head the epa who has the n...  \n",
       "227                              climate change fakenews  \n",
       "11468  know how come one ever talks about the good ki...  \n",
       "4191   they changed the name from global warming clim...  "
      ]
     },
     "execution_count": 19,
     "metadata": {},
     "output_type": "execute_result"
    }
   ],
   "source": [
    "train.tail()"
   ]
  },
  {
   "cell_type": "code",
   "execution_count": 19,
   "metadata": {
    "execution": {
     "iopub.execute_input": "2021-06-12T13:26:52.054029Z",
     "iopub.status.busy": "2021-06-12T13:26:52.053080Z",
     "iopub.status.idle": "2021-06-12T13:26:52.056458Z",
     "shell.execute_reply": "2021-06-12T13:26:52.056895Z",
     "shell.execute_reply.started": "2021-06-08T16:54:45.824017Z"
    },
    "papermill": {
     "duration": 0.049052,
     "end_time": "2021-06-12T13:26:52.057058",
     "exception": false,
     "start_time": "2021-06-12T13:26:52.008006",
     "status": "completed"
    },
    "tags": []
   },
   "outputs": [],
   "source": [
    "# check packages to correct spelling\n",
    "#check packages to translate non-english words to english"
   ]
  },
  {
   "cell_type": "code",
   "execution_count": 20,
   "metadata": {
    "papermill": {
     "duration": 0.061659,
     "end_time": "2021-06-12T13:26:52.160936",
     "exception": false,
     "start_time": "2021-06-12T13:26:52.099277",
     "status": "completed"
    },
    "tags": []
   },
   "outputs": [
    {
     "data": {
      "text/html": [
       "<div>\n",
       "<style scoped>\n",
       "    .dataframe tbody tr th:only-of-type {\n",
       "        vertical-align: middle;\n",
       "    }\n",
       "\n",
       "    .dataframe tbody tr th {\n",
       "        vertical-align: top;\n",
       "    }\n",
       "\n",
       "    .dataframe thead th {\n",
       "        text-align: right;\n",
       "    }\n",
       "</style>\n",
       "<table border=\"1\" class=\"dataframe\">\n",
       "  <thead>\n",
       "    <tr style=\"text-align: right;\">\n",
       "      <th></th>\n",
       "      <th>sentiment</th>\n",
       "      <th>message</th>\n",
       "      <th>tweetid</th>\n",
       "      <th>prep_text</th>\n",
       "    </tr>\n",
       "  </thead>\n",
       "  <tbody>\n",
       "    <tr>\n",
       "      <th>6759</th>\n",
       "      <td>-1</td>\n",
       "      <td>RT @RyanMaue: Just read through the study supp...</td>\n",
       "      <td>652808</td>\n",
       "      <td>just read through the study supposedly entirel...</td>\n",
       "    </tr>\n",
       "    <tr>\n",
       "      <th>8497</th>\n",
       "      <td>-1</td>\n",
       "      <td>Gosh, It's cold in the morning and hot in the ...</td>\n",
       "      <td>869303</td>\n",
       "      <td>gosh its cold the morning and hot the afternoo...</td>\n",
       "    </tr>\n",
       "    <tr>\n",
       "      <th>11247</th>\n",
       "      <td>-1</td>\n",
       "      <td>@nodank_ No I am not, I am on the side of the ...</td>\n",
       "      <td>103721</td>\n",
       "      <td>not the side the scientists who disagree with ...</td>\n",
       "    </tr>\n",
       "    <tr>\n",
       "      <th>13712</th>\n",
       "      <td>-1</td>\n",
       "      <td>From lowering oil price to climate change prop...</td>\n",
       "      <td>517638</td>\n",
       "      <td>from lowering oil price climate change propaga...</td>\n",
       "    </tr>\n",
       "    <tr>\n",
       "      <th>2587</th>\n",
       "      <td>-1</td>\n",
       "      <td>RT @KaptKan1: The Russians are making the clim...</td>\n",
       "      <td>756968</td>\n",
       "      <td>the russians are making the climate change</td>\n",
       "    </tr>\n",
       "    <tr>\n",
       "      <th>3660</th>\n",
       "      <td>-1</td>\n",
       "      <td>@thehill The ONLY remedy to cure global warmin...</td>\n",
       "      <td>3275</td>\n",
       "      <td>the only remedy cure global warming write chec...</td>\n",
       "    </tr>\n",
       "    <tr>\n",
       "      <th>5357</th>\n",
       "      <td>-1</td>\n",
       "      <td>RT @WalshFreedom: Trump picks someone to head ...</td>\n",
       "      <td>607528</td>\n",
       "      <td>trump picks someone head the epa who has the n...</td>\n",
       "    </tr>\n",
       "    <tr>\n",
       "      <th>227</th>\n",
       "      <td>-1</td>\n",
       "      <td>@zrastall17 climate change is #fakenews</td>\n",
       "      <td>3014</td>\n",
       "      <td>climate change fakenews</td>\n",
       "    </tr>\n",
       "    <tr>\n",
       "      <th>11468</th>\n",
       "      <td>-1</td>\n",
       "      <td>I know!! How come no one ever talks about the ...</td>\n",
       "      <td>601361</td>\n",
       "      <td>know how come one ever talks about the good ki...</td>\n",
       "    </tr>\n",
       "    <tr>\n",
       "      <th>4191</th>\n",
       "      <td>-1</td>\n",
       "      <td>RT @realDonaldTrump: They changed the name fro...</td>\n",
       "      <td>320842</td>\n",
       "      <td>they changed the name from global warming clim...</td>\n",
       "    </tr>\n",
       "  </tbody>\n",
       "</table>\n",
       "</div>"
      ],
      "text/plain": [
       "       sentiment                                            message  tweetid  \\\n",
       "6759          -1  RT @RyanMaue: Just read through the study supp...   652808   \n",
       "8497          -1  Gosh, It's cold in the morning and hot in the ...   869303   \n",
       "11247         -1  @nodank_ No I am not, I am on the side of the ...   103721   \n",
       "13712         -1  From lowering oil price to climate change prop...   517638   \n",
       "2587          -1  RT @KaptKan1: The Russians are making the clim...   756968   \n",
       "3660          -1  @thehill The ONLY remedy to cure global warmin...     3275   \n",
       "5357          -1  RT @WalshFreedom: Trump picks someone to head ...   607528   \n",
       "227           -1            @zrastall17 climate change is #fakenews     3014   \n",
       "11468         -1  I know!! How come no one ever talks about the ...   601361   \n",
       "4191          -1  RT @realDonaldTrump: They changed the name fro...   320842   \n",
       "\n",
       "                                               prep_text  \n",
       "6759   just read through the study supposedly entirel...  \n",
       "8497   gosh its cold the morning and hot the afternoo...  \n",
       "11247  not the side the scientists who disagree with ...  \n",
       "13712  from lowering oil price climate change propaga...  \n",
       "2587          the russians are making the climate change  \n",
       "3660   the only remedy cure global warming write chec...  \n",
       "5357   trump picks someone head the epa who has the n...  \n",
       "227                              climate change fakenews  \n",
       "11468  know how come one ever talks about the good ki...  \n",
       "4191   they changed the name from global warming clim...  "
      ]
     },
     "execution_count": 20,
     "metadata": {},
     "output_type": "execute_result"
    }
   ],
   "source": [
    "train.tail(10)"
   ]
  },
  {
   "cell_type": "markdown",
   "metadata": {
    "papermill": {
     "duration": 0.042603,
     "end_time": "2021-06-12T13:26:52.246093",
     "exception": false,
     "start_time": "2021-06-12T13:26:52.203490",
     "status": "completed"
    },
    "tags": []
   },
   "source": [
    "## Exploratory Data Analysis"
   ]
  },
  {
   "cell_type": "markdown",
   "metadata": {
    "papermill": {
     "duration": 0.042608,
     "end_time": "2021-06-12T13:26:52.331306",
     "exception": false,
     "start_time": "2021-06-12T13:26:52.288698",
     "status": "completed"
    },
    "tags": []
   },
   "source": [
    "### 5.1 Univaraite Data analysis"
   ]
  },
  {
   "cell_type": "markdown",
   "metadata": {
    "papermill": {
     "duration": 0.054176,
     "end_time": "2021-06-12T13:27:00.194488",
     "exception": false,
     "start_time": "2021-06-12T13:27:00.140312",
     "status": "completed"
    },
    "tags": []
   },
   "source": [
    "#### Univariate Analysis: Graphical"
   ]
  },
  {
   "cell_type": "code",
   "execution_count": 26,
   "metadata": {
    "execution": {
     "iopub.execute_input": "2021-06-12T13:27:00.642083Z",
     "iopub.status.busy": "2021-06-12T13:27:00.641309Z",
     "iopub.status.idle": "2021-06-12T13:27:05.515371Z",
     "shell.execute_reply": "2021-06-12T13:27:05.515887Z",
     "shell.execute_reply.started": "2021-06-09T18:51:56.183485Z"
    },
    "papermill": {
     "duration": 4.927625,
     "end_time": "2021-06-12T13:27:05.516085",
     "exception": false,
     "start_time": "2021-06-12T13:27:00.588460",
     "status": "completed"
    },
    "tags": []
   },
   "outputs": [
    {
     "data": {
      "image/png": "[encoded data removed]",
      "text/plain": [
       "<Figure size 2160x2160 with 1 Axes>"
      ]
     },
     "metadata": {},
     "output_type": "display_data"
    }
   ],
   "source": [
    "\n",
    "#Compare the sentiment analysis \n",
    "from textblob import TextBlob\n",
    "train['sentiment'] = train['message'].apply(lambda x:TextBlob(x).sentiment.polarity)\n",
    "plt.figure(figsize=(30,30))\n",
    "plt.margins(0.02)\n",
    "plt.xlabel('Sentiment', fontsize=50)\n",
    "plt.xticks(fontsize=40)\n",
    "plt.ylabel('Frequency', fontsize=50)\n",
    "plt.yticks(fontsize=40)\n",
    "plt.hist(df_train['sentiment'], bins=50)\n",
    "plt.title('Sentiment Distribution', fontsize=60)\n",
    "plt.show()"
   ]
  },
  {
   "cell_type": "code",
   "execution_count": 27,
   "metadata": {
    "execution": {
     "iopub.execute_input": "2021-06-12T13:27:05.623341Z",
     "iopub.status.busy": "2021-06-12T13:27:05.622335Z",
     "iopub.status.idle": "2021-06-12T13:27:06.073659Z",
     "shell.execute_reply": "2021-06-12T13:27:06.073120Z",
     "shell.execute_reply.started": "2021-06-09T18:52:10.262488Z"
    },
    "papermill": {
     "duration": 0.507668,
     "end_time": "2021-06-12T13:27:06.073843",
     "exception": false,
     "start_time": "2021-06-12T13:27:05.566175",
     "status": "completed"
    },
    "tags": []
   },
   "outputs": [
    {
     "name": "stderr",
     "output_type": "stream",
     "text": [
      "/opt/conda/lib/python3.7/site-packages/seaborn/distributions.py:2557: FutureWarning: `distplot` is a deprecated function and will be removed in a future version. Please adapt your code to use either `displot` (a figure-level function with similar flexibility) or `histplot` (an axes-level function for histograms).\n",
      "  warnings.warn(msg, FutureWarning)\n"
     ]
    },
    {
     "data": {
      "text/plain": [
       "<AxesSubplot:xlabel='sentiment', ylabel='Density'>"
      ]
     },
     "execution_count": 27,
     "metadata": {},
     "output_type": "execute_result"
    },
    {
     "data": {
      "image/png": "[encoded data removed]",
      "text/plain": [
       "<Figure size 720x504 with 1 Axes>"
      ]
     },
     "metadata": {},
     "output_type": "display_data"
    }
   ],
   "source": [
    "# Checking the distribution of the sentiment column\n",
    "plt.subplots(figsize=(10,7))\n",
    "sns.distplot(train['sentiment'],kde=True)"
   ]
  },
  {
   "cell_type": "code",
   "execution_count": 22,
   "metadata": {
    "papermill": {
     "duration": 2.635339,
     "end_time": "2021-06-12T13:27:08.982742",
     "exception": false,
     "start_time": "2021-06-12T13:27:06.347403",
     "status": "completed"
    },
    "tags": []
   },
   "outputs": [
    {
     "data": {
      "image/png": "[encoded data removed]",
      "text/plain": [
       "<Figure size 2160x720 with 1 Axes>"
      ]
     },
     "metadata": {},
     "output_type": "display_data"
    }
   ],
   "source": [
    "words = train['prep_text']\n",
    "allwords = []\n",
    "for wordlist in words:\n",
    "    allwords += wordlist\n",
    "    \n",
    "mostcommon = FreqDist(allwords).most_common(1000)\n",
    "wordcloud = WordCloud(width=1000, height=800, background_color='black').generate(str(mostcommon))\n",
    "fig = plt.figure(figsize=(30,10), facecolor='white')\n",
    "plt.imshow(wordcloud, interpolation=\"bilinear\")\n",
    "plt.axis('off')\n",
    "plt.tight_layout(pad=0)\n",
    "plt.show()"
   ]
  },
  {
   "cell_type": "markdown",
   "metadata": {
    "papermill": {
     "duration": 0.067167,
     "end_time": "2021-06-12T13:27:09.120481",
     "exception": false,
     "start_time": "2021-06-12T13:27:09.053314",
     "status": "completed"
    },
    "tags": []
   },
   "source": [
    "### Feature Extraction"
   ]
  },
  {
   "cell_type": "code",
   "execution_count": null,
   "metadata": {
    "papermill": {
     "duration": 0.09758,
     "end_time": "2021-06-12T13:27:09.283601",
     "exception": false,
     "start_time": "2021-06-12T13:27:09.186021",
     "status": "completed"
    },
    "tags": []
   },
   "outputs": [],
   "source": [
    "df_sample.to_csv('submission.csv', index = False)"
   ]
  },
  {
   "cell_type": "markdown",
   "metadata": {},
   "source": [
    "# 0.remove urls"
   ]
  },
  {
   "cell_type": "code",
   "execution_count": 24,
   "metadata": {},
   "outputs": [
    {
     "data": {
      "text/html": [
       "<div>\n",
       "<style scoped>\n",
       "    .dataframe tbody tr th:only-of-type {\n",
       "        vertical-align: middle;\n",
       "    }\n",
       "\n",
       "    .dataframe tbody tr th {\n",
       "        vertical-align: top;\n",
       "    }\n",
       "\n",
       "    .dataframe thead th {\n",
       "        text-align: right;\n",
       "    }\n",
       "</style>\n",
       "<table border=\"1\" class=\"dataframe\">\n",
       "  <thead>\n",
       "    <tr style=\"text-align: right;\">\n",
       "      <th></th>\n",
       "      <th>sentiment</th>\n",
       "      <th>message</th>\n",
       "      <th>tweetid</th>\n",
       "      <th>prep_text</th>\n",
       "    </tr>\n",
       "  </thead>\n",
       "  <tbody>\n",
       "    <tr>\n",
       "      <th>2</th>\n",
       "      <td>2</td>\n",
       "      <td>rt rawstory researchers say we have three year...</td>\n",
       "      <td>698562</td>\n",
       "      <td>researchers say have three years act climate c...</td>\n",
       "    </tr>\n",
       "    <tr>\n",
       "      <th>12</th>\n",
       "      <td>2</td>\n",
       "      <td>rt tveitdal we only have a 5 percent chance of...</td>\n",
       "      <td>454673</td>\n",
       "      <td>only have percent chance avoiding dangerous gl...</td>\n",
       "    </tr>\n",
       "    <tr>\n",
       "      <th>14</th>\n",
       "      <td>2</td>\n",
       "      <td>fossil fuel giant exxonmobil ‘misled’ the publ...</td>\n",
       "      <td>658092</td>\n",
       "      <td>fossil fuel giant exxon mobil misled the publi...</td>\n",
       "    </tr>\n",
       "    <tr>\n",
       "      <th>26</th>\n",
       "      <td>2</td>\n",
       "      <td>bangladesh confronting climate change head on ...</td>\n",
       "      <td>365291</td>\n",
       "      <td>bangladesh confronting climate change head tqe...</td>\n",
       "    </tr>\n",
       "    <tr>\n",
       "      <th>32</th>\n",
       "      <td>2</td>\n",
       "      <td>rt latimes atmospheric rivers fueled by climat...</td>\n",
       "      <td>143471</td>\n",
       "      <td>atmospheric rivers fueled climate change could...</td>\n",
       "    </tr>\n",
       "  </tbody>\n",
       "</table>\n",
       "</div>"
      ],
      "text/plain": [
       "    sentiment                                            message  tweetid  \\\n",
       "2           2  rt rawstory researchers say we have three year...   698562   \n",
       "12          2  rt tveitdal we only have a 5 percent chance of...   454673   \n",
       "14          2  fossil fuel giant exxonmobil ‘misled’ the publ...   658092   \n",
       "26          2  bangladesh confronting climate change head on ...   365291   \n",
       "32          2  rt latimes atmospheric rivers fueled by climat...   143471   \n",
       "\n",
       "                                            prep_text  \n",
       "2   researchers say have three years act climate c...  \n",
       "12  only have percent chance avoiding dangerous gl...  \n",
       "14  fossil fuel giant exxon mobil misled the publi...  \n",
       "26  bangladesh confronting climate change head tqe...  \n",
       "32  atmospheric rivers fueled climate change could...  "
      ]
     },
     "execution_count": 24,
     "metadata": {},
     "output_type": "execute_result"
    }
   ],
   "source": [
    "### Remove urls and replace them with the word 'url-web'\n",
    "#Our data doesn't seem to have any urls, adding code just in case\n",
    "pattern_url = r'http[s]?://(?:[A-Za-z]|[0-9]|[$-_@.&+]|[!*\\(\\),]|(?:%[0-9A-Fa-f][0-9A-Fa-f]))+'\n",
    "subs_url = r'url-web'\n",
    "train['message'] = train['message'].replace(to_replace = pattern_url, value = subs_url, regex = True)\n",
    "\n",
    "##Convert all lowercase to uppercase\n",
    "train['message'] = train['message'].str.lower()\n",
    "\n",
    "### Remove special characters, symbols\n",
    "def remove_punctuation(post):\n",
    "    return ''.join([l for l in post if l not in string.punctuation])\n",
    "\n",
    "train['message'] = train['message'].apply(remove_punctuation)\n",
    "\n",
    "train.head()"
   ]
  },
  {
   "cell_type": "markdown",
   "metadata": {},
   "source": [
    "# 1. Punctuation"
   ]
  },
  {
   "cell_type": "code",
   "execution_count": 25,
   "metadata": {},
   "outputs": [
    {
     "data": {
      "text/plain": [
       "'!\"#$%&\\'()*+,-./:;<=>?@[\\\\]^_`{|}~'"
      ]
     },
     "execution_count": 25,
     "metadata": {},
     "output_type": "execute_result"
    }
   ],
   "source": [
    "import string \n",
    "string.punctuation"
   ]
  },
  {
   "cell_type": "code",
   "execution_count": 26,
   "metadata": {},
   "outputs": [
    {
     "data": {
      "text/html": [
       "<div>\n",
       "<style scoped>\n",
       "    .dataframe tbody tr th:only-of-type {\n",
       "        vertical-align: middle;\n",
       "    }\n",
       "\n",
       "    .dataframe tbody tr th {\n",
       "        vertical-align: top;\n",
       "    }\n",
       "\n",
       "    .dataframe thead th {\n",
       "        text-align: right;\n",
       "    }\n",
       "</style>\n",
       "<table border=\"1\" class=\"dataframe\">\n",
       "  <thead>\n",
       "    <tr style=\"text-align: right;\">\n",
       "      <th></th>\n",
       "      <th>sentiment</th>\n",
       "      <th>message</th>\n",
       "      <th>tweetid</th>\n",
       "      <th>prep_text</th>\n",
       "      <th>punctuation</th>\n",
       "    </tr>\n",
       "  </thead>\n",
       "  <tbody>\n",
       "    <tr>\n",
       "      <th>2</th>\n",
       "      <td>2</td>\n",
       "      <td>rt rawstory researchers say we have three year...</td>\n",
       "      <td>698562</td>\n",
       "      <td>researchers say have three years act climate c...</td>\n",
       "      <td>rt rawstory researchers say we have three year...</td>\n",
       "    </tr>\n",
       "    <tr>\n",
       "      <th>12</th>\n",
       "      <td>2</td>\n",
       "      <td>rt tveitdal we only have a 5 percent chance of...</td>\n",
       "      <td>454673</td>\n",
       "      <td>only have percent chance avoiding dangerous gl...</td>\n",
       "      <td>rt tveitdal we only have a 5 percent chance of...</td>\n",
       "    </tr>\n",
       "    <tr>\n",
       "      <th>14</th>\n",
       "      <td>2</td>\n",
       "      <td>fossil fuel giant exxonmobil ‘misled’ the publ...</td>\n",
       "      <td>658092</td>\n",
       "      <td>fossil fuel giant exxon mobil misled the publi...</td>\n",
       "      <td>fossil fuel giant exxonmobil ‘misled’ the publ...</td>\n",
       "    </tr>\n",
       "    <tr>\n",
       "      <th>26</th>\n",
       "      <td>2</td>\n",
       "      <td>bangladesh confronting climate change head on ...</td>\n",
       "      <td>365291</td>\n",
       "      <td>bangladesh confronting climate change head tqe...</td>\n",
       "      <td>bangladesh confronting climate change head on ...</td>\n",
       "    </tr>\n",
       "    <tr>\n",
       "      <th>32</th>\n",
       "      <td>2</td>\n",
       "      <td>rt latimes atmospheric rivers fueled by climat...</td>\n",
       "      <td>143471</td>\n",
       "      <td>atmospheric rivers fueled climate change could...</td>\n",
       "      <td>rt latimes atmospheric rivers fueled by climat...</td>\n",
       "    </tr>\n",
       "  </tbody>\n",
       "</table>\n",
       "</div>"
      ],
      "text/plain": [
       "    sentiment                                            message  tweetid  \\\n",
       "2           2  rt rawstory researchers say we have three year...   698562   \n",
       "12          2  rt tveitdal we only have a 5 percent chance of...   454673   \n",
       "14          2  fossil fuel giant exxonmobil ‘misled’ the publ...   658092   \n",
       "26          2  bangladesh confronting climate change head on ...   365291   \n",
       "32          2  rt latimes atmospheric rivers fueled by climat...   143471   \n",
       "\n",
       "                                            prep_text  \\\n",
       "2   researchers say have three years act climate c...   \n",
       "12  only have percent chance avoiding dangerous gl...   \n",
       "14  fossil fuel giant exxon mobil misled the publi...   \n",
       "26  bangladesh confronting climate change head tqe...   \n",
       "32  atmospheric rivers fueled climate change could...   \n",
       "\n",
       "                                          punctuation  \n",
       "2   rt rawstory researchers say we have three year...  \n",
       "12  rt tveitdal we only have a 5 percent chance of...  \n",
       "14  fossil fuel giant exxonmobil ‘misled’ the publ...  \n",
       "26  bangladesh confronting climate change head on ...  \n",
       "32  rt latimes atmospheric rivers fueled by climat...  "
      ]
     },
     "execution_count": 26,
     "metadata": {},
     "output_type": "execute_result"
    }
   ],
   "source": [
    "#1.1 remove the punctuation\n",
    "def remove_punctuation(text):\n",
    "    no_punct=[words for words in text if words not in string.punctuation]\n",
    "    words_wo_punct=''.join(no_punct)\n",
    "    return words_wo_punct\n",
    "\n",
    "train['punctuation']=train['message'].apply(lambda x: remove_punctuation(x))\n",
    "train.head()"
   ]
  },
  {
   "cell_type": "markdown",
   "metadata": {},
   "source": [
    "# 2.Tokenization"
   ]
  },
  {
   "cell_type": "markdown",
   "metadata": {},
   "source": [
    "A tokeniser divides text into a sequence of tokens. We will use tokenisers to clean up the data, making it ready for analysis."
   ]
  },
  {
   "cell_type": "code",
   "execution_count": 27,
   "metadata": {},
   "outputs": [
    {
     "data": {
      "text/html": [
       "<div>\n",
       "<style scoped>\n",
       "    .dataframe tbody tr th:only-of-type {\n",
       "        vertical-align: middle;\n",
       "    }\n",
       "\n",
       "    .dataframe tbody tr th {\n",
       "        vertical-align: top;\n",
       "    }\n",
       "\n",
       "    .dataframe thead th {\n",
       "        text-align: right;\n",
       "    }\n",
       "</style>\n",
       "<table border=\"1\" class=\"dataframe\">\n",
       "  <thead>\n",
       "    <tr style=\"text-align: right;\">\n",
       "      <th></th>\n",
       "      <th>sentiment</th>\n",
       "      <th>message</th>\n",
       "      <th>tweetid</th>\n",
       "      <th>prep_text</th>\n",
       "      <th>punctuation</th>\n",
       "      <th>tokenized</th>\n",
       "    </tr>\n",
       "  </thead>\n",
       "  <tbody>\n",
       "    <tr>\n",
       "      <th>2</th>\n",
       "      <td>2</td>\n",
       "      <td>rt rawstory researchers say we have three year...</td>\n",
       "      <td>698562</td>\n",
       "      <td>researchers say have three years act climate c...</td>\n",
       "      <td>rt rawstory researchers say we have three year...</td>\n",
       "      <td>[rt, rawstory, researchers, say, we, have, thr...</td>\n",
       "    </tr>\n",
       "    <tr>\n",
       "      <th>12</th>\n",
       "      <td>2</td>\n",
       "      <td>rt tveitdal we only have a 5 percent chance of...</td>\n",
       "      <td>454673</td>\n",
       "      <td>only have percent chance avoiding dangerous gl...</td>\n",
       "      <td>rt tveitdal we only have a 5 percent chance of...</td>\n",
       "      <td>[rt, tveitdal, we, only, have, a, 5, percent, ...</td>\n",
       "    </tr>\n",
       "    <tr>\n",
       "      <th>14</th>\n",
       "      <td>2</td>\n",
       "      <td>fossil fuel giant exxonmobil ‘misled’ the publ...</td>\n",
       "      <td>658092</td>\n",
       "      <td>fossil fuel giant exxon mobil misled the publi...</td>\n",
       "      <td>fossil fuel giant exxonmobil ‘misled’ the publ...</td>\n",
       "      <td>[fossil, fuel, giant, exxonmobil, misled, the,...</td>\n",
       "    </tr>\n",
       "    <tr>\n",
       "      <th>26</th>\n",
       "      <td>2</td>\n",
       "      <td>bangladesh confronting climate change head on ...</td>\n",
       "      <td>365291</td>\n",
       "      <td>bangladesh confronting climate change head tqe...</td>\n",
       "      <td>bangladesh confronting climate change head on ...</td>\n",
       "      <td>[bangladesh, confronting, climate, change, hea...</td>\n",
       "    </tr>\n",
       "    <tr>\n",
       "      <th>32</th>\n",
       "      <td>2</td>\n",
       "      <td>rt latimes atmospheric rivers fueled by climat...</td>\n",
       "      <td>143471</td>\n",
       "      <td>atmospheric rivers fueled climate change could...</td>\n",
       "      <td>rt latimes atmospheric rivers fueled by climat...</td>\n",
       "      <td>[rt, latimes, atmospheric, rivers, fueled, by,...</td>\n",
       "    </tr>\n",
       "  </tbody>\n",
       "</table>\n",
       "</div>"
      ],
      "text/plain": [
       "    sentiment                                            message  tweetid  \\\n",
       "2           2  rt rawstory researchers say we have three year...   698562   \n",
       "12          2  rt tveitdal we only have a 5 percent chance of...   454673   \n",
       "14          2  fossil fuel giant exxonmobil ‘misled’ the publ...   658092   \n",
       "26          2  bangladesh confronting climate change head on ...   365291   \n",
       "32          2  rt latimes atmospheric rivers fueled by climat...   143471   \n",
       "\n",
       "                                            prep_text  \\\n",
       "2   researchers say have three years act climate c...   \n",
       "12  only have percent chance avoiding dangerous gl...   \n",
       "14  fossil fuel giant exxon mobil misled the publi...   \n",
       "26  bangladesh confronting climate change head tqe...   \n",
       "32  atmospheric rivers fueled climate change could...   \n",
       "\n",
       "                                          punctuation  \\\n",
       "2   rt rawstory researchers say we have three year...   \n",
       "12  rt tveitdal we only have a 5 percent chance of...   \n",
       "14  fossil fuel giant exxonmobil ‘misled’ the publ...   \n",
       "26  bangladesh confronting climate change head on ...   \n",
       "32  rt latimes atmospheric rivers fueled by climat...   \n",
       "\n",
       "                                            tokenized  \n",
       "2   [rt, rawstory, researchers, say, we, have, thr...  \n",
       "12  [rt, tveitdal, we, only, have, a, 5, percent, ...  \n",
       "14  [fossil, fuel, giant, exxonmobil, misled, the,...  \n",
       "26  [bangladesh, confronting, climate, change, hea...  \n",
       "32  [rt, latimes, atmospheric, rivers, fueled, by,...  "
      ]
     },
     "execution_count": 27,
     "metadata": {},
     "output_type": "execute_result"
    }
   ],
   "source": [
    "def tokenize(text):\n",
    "    split=re.split(\"\\W+\",text) \n",
    "    return split\n",
    "train['tokenized']=train['punctuation'].apply(lambda x: tokenize(x.lower()))\n",
    "train.head()"
   ]
  },
  {
   "cell_type": "markdown",
   "metadata": {},
   "source": [
    "# 3.Stop words"
   ]
  },
  {
   "cell_type": "markdown",
   "metadata": {},
   "source": [
    "Stop words are words which do not contain important significance to be used in Search Queries. Usually these words are filtered out from search queries because they return a vast amount of unnecessary information."
   ]
  },
  {
   "cell_type": "code",
   "execution_count": 28,
   "metadata": {},
   "outputs": [
    {
     "name": "stdout",
     "output_type": "stream",
     "text": [
      "['i', 'me', 'my', 'myself', 'we', 'our', 'ours', 'ourselves', 'you', \"you're\", \"you've\"]\n"
     ]
    }
   ],
   "source": [
    "stopword = nltk.corpus.stopwords.words('english')\n",
    "print(stopword[:11])"
   ]
  },
  {
   "cell_type": "code",
   "execution_count": 29,
   "metadata": {},
   "outputs": [
    {
     "data": {
      "text/html": [
       "<div>\n",
       "<style scoped>\n",
       "    .dataframe tbody tr th:only-of-type {\n",
       "        vertical-align: middle;\n",
       "    }\n",
       "\n",
       "    .dataframe tbody tr th {\n",
       "        vertical-align: top;\n",
       "    }\n",
       "\n",
       "    .dataframe thead th {\n",
       "        text-align: right;\n",
       "    }\n",
       "</style>\n",
       "<table border=\"1\" class=\"dataframe\">\n",
       "  <thead>\n",
       "    <tr style=\"text-align: right;\">\n",
       "      <th></th>\n",
       "      <th>sentiment</th>\n",
       "      <th>message</th>\n",
       "      <th>tweetid</th>\n",
       "      <th>prep_text</th>\n",
       "      <th>punctuation</th>\n",
       "      <th>tokenized</th>\n",
       "      <th>stopwords</th>\n",
       "    </tr>\n",
       "  </thead>\n",
       "  <tbody>\n",
       "    <tr>\n",
       "      <th>2</th>\n",
       "      <td>2</td>\n",
       "      <td>rt rawstory researchers say we have three year...</td>\n",
       "      <td>698562</td>\n",
       "      <td>researchers say have three years act climate c...</td>\n",
       "      <td>rt rawstory researchers say we have three year...</td>\n",
       "      <td>[rt, rawstory, researchers, say, we, have, thr...</td>\n",
       "      <td>[rt, rawstory, researchers, say, three, years,...</td>\n",
       "    </tr>\n",
       "    <tr>\n",
       "      <th>12</th>\n",
       "      <td>2</td>\n",
       "      <td>rt tveitdal we only have a 5 percent chance of...</td>\n",
       "      <td>454673</td>\n",
       "      <td>only have percent chance avoiding dangerous gl...</td>\n",
       "      <td>rt tveitdal we only have a 5 percent chance of...</td>\n",
       "      <td>[rt, tveitdal, we, only, have, a, 5, percent, ...</td>\n",
       "      <td>[rt, tveitdal, 5, percent, chance, avoiding, d...</td>\n",
       "    </tr>\n",
       "    <tr>\n",
       "      <th>14</th>\n",
       "      <td>2</td>\n",
       "      <td>fossil fuel giant exxonmobil ‘misled’ the publ...</td>\n",
       "      <td>658092</td>\n",
       "      <td>fossil fuel giant exxon mobil misled the publi...</td>\n",
       "      <td>fossil fuel giant exxonmobil ‘misled’ the publ...</td>\n",
       "      <td>[fossil, fuel, giant, exxonmobil, misled, the,...</td>\n",
       "      <td>[fossil, fuel, giant, exxonmobil, misled, publ...</td>\n",
       "    </tr>\n",
       "    <tr>\n",
       "      <th>26</th>\n",
       "      <td>2</td>\n",
       "      <td>bangladesh confronting climate change head on ...</td>\n",
       "      <td>365291</td>\n",
       "      <td>bangladesh confronting climate change head tqe...</td>\n",
       "      <td>bangladesh confronting climate change head on ...</td>\n",
       "      <td>[bangladesh, confronting, climate, change, hea...</td>\n",
       "      <td>[bangladesh, confronting, climate, change, hea...</td>\n",
       "    </tr>\n",
       "    <tr>\n",
       "      <th>32</th>\n",
       "      <td>2</td>\n",
       "      <td>rt latimes atmospheric rivers fueled by climat...</td>\n",
       "      <td>143471</td>\n",
       "      <td>atmospheric rivers fueled climate change could...</td>\n",
       "      <td>rt latimes atmospheric rivers fueled by climat...</td>\n",
       "      <td>[rt, latimes, atmospheric, rivers, fueled, by,...</td>\n",
       "      <td>[rt, latimes, atmospheric, rivers, fueled, cli...</td>\n",
       "    </tr>\n",
       "  </tbody>\n",
       "</table>\n",
       "</div>"
      ],
      "text/plain": [
       "    sentiment                                            message  tweetid  \\\n",
       "2           2  rt rawstory researchers say we have three year...   698562   \n",
       "12          2  rt tveitdal we only have a 5 percent chance of...   454673   \n",
       "14          2  fossil fuel giant exxonmobil ‘misled’ the publ...   658092   \n",
       "26          2  bangladesh confronting climate change head on ...   365291   \n",
       "32          2  rt latimes atmospheric rivers fueled by climat...   143471   \n",
       "\n",
       "                                            prep_text  \\\n",
       "2   researchers say have three years act climate c...   \n",
       "12  only have percent chance avoiding dangerous gl...   \n",
       "14  fossil fuel giant exxon mobil misled the publi...   \n",
       "26  bangladesh confronting climate change head tqe...   \n",
       "32  atmospheric rivers fueled climate change could...   \n",
       "\n",
       "                                          punctuation  \\\n",
       "2   rt rawstory researchers say we have three year...   \n",
       "12  rt tveitdal we only have a 5 percent chance of...   \n",
       "14  fossil fuel giant exxonmobil ‘misled’ the publ...   \n",
       "26  bangladesh confronting climate change head on ...   \n",
       "32  rt latimes atmospheric rivers fueled by climat...   \n",
       "\n",
       "                                            tokenized  \\\n",
       "2   [rt, rawstory, researchers, say, we, have, thr...   \n",
       "12  [rt, tveitdal, we, only, have, a, 5, percent, ...   \n",
       "14  [fossil, fuel, giant, exxonmobil, misled, the,...   \n",
       "26  [bangladesh, confronting, climate, change, hea...   \n",
       "32  [rt, latimes, atmospheric, rivers, fueled, by,...   \n",
       "\n",
       "                                            stopwords  \n",
       "2   [rt, rawstory, researchers, say, three, years,...  \n",
       "12  [rt, tveitdal, 5, percent, chance, avoiding, d...  \n",
       "14  [fossil, fuel, giant, exxonmobil, misled, publ...  \n",
       "26  [bangladesh, confronting, climate, change, hea...  \n",
       "32  [rt, latimes, atmospheric, rivers, fueled, cli...  "
      ]
     },
     "execution_count": 29,
     "metadata": {},
     "output_type": "execute_result"
    }
   ],
   "source": [
    "def remove_stopwords(text):\n",
    "    text=[word for word in text if word not in stopword]\n",
    "    return text\n",
    "train['stopwords'] = train['tokenized'].apply(lambda x: remove_stopwords(x))\n",
    "train.head()"
   ]
  },
  {
   "cell_type": "markdown",
   "metadata": {},
   "source": [
    "# 4.Lemmatisation"
   ]
  },
  {
   "cell_type": "markdown",
   "metadata": {},
   "source": [
    "Lemmatizing is the process of grouping words of similar meaning together. So, your root stem, meaning the word you end up with, is not something you can just look up in a dictionary, but you can look up a lemma."
   ]
  },
  {
   "cell_type": "code",
   "execution_count": 30,
   "metadata": {},
   "outputs": [],
   "source": [
    "#nltk.download('wordnet')\n",
    "def train_lemma(words, lemmatizer):\n",
    "    return [lemmatizer.lemmatize(word) for word in words]  \n",
    "\n",
    "lemmatizer = WordNetLemmatizer()\n",
    "\n",
    "train['lemma'] = train['stopwords'].apply(train_lemma, args=(lemmatizer, ))"
   ]
  },
  {
   "cell_type": "code",
   "execution_count": 31,
   "metadata": {},
   "outputs": [
    {
     "data": {
      "text/html": [
       "<div>\n",
       "<style scoped>\n",
       "    .dataframe tbody tr th:only-of-type {\n",
       "        vertical-align: middle;\n",
       "    }\n",
       "\n",
       "    .dataframe tbody tr th {\n",
       "        vertical-align: top;\n",
       "    }\n",
       "\n",
       "    .dataframe thead th {\n",
       "        text-align: right;\n",
       "    }\n",
       "</style>\n",
       "<table border=\"1\" class=\"dataframe\">\n",
       "  <thead>\n",
       "    <tr style=\"text-align: right;\">\n",
       "      <th></th>\n",
       "      <th>sentiment</th>\n",
       "      <th>message</th>\n",
       "      <th>tweetid</th>\n",
       "      <th>prep_text</th>\n",
       "      <th>punctuation</th>\n",
       "      <th>tokenized</th>\n",
       "      <th>stopwords</th>\n",
       "      <th>lemma</th>\n",
       "    </tr>\n",
       "  </thead>\n",
       "  <tbody>\n",
       "    <tr>\n",
       "      <th>2</th>\n",
       "      <td>2</td>\n",
       "      <td>rt rawstory researchers say we have three year...</td>\n",
       "      <td>698562</td>\n",
       "      <td>researchers say have three years act climate c...</td>\n",
       "      <td>rt rawstory researchers say we have three year...</td>\n",
       "      <td>[rt, rawstory, researchers, say, we, have, thr...</td>\n",
       "      <td>[rt, rawstory, researchers, say, three, years,...</td>\n",
       "      <td>[rt, rawstory, researcher, say, three, year, a...</td>\n",
       "    </tr>\n",
       "    <tr>\n",
       "      <th>12</th>\n",
       "      <td>2</td>\n",
       "      <td>rt tveitdal we only have a 5 percent chance of...</td>\n",
       "      <td>454673</td>\n",
       "      <td>only have percent chance avoiding dangerous gl...</td>\n",
       "      <td>rt tveitdal we only have a 5 percent chance of...</td>\n",
       "      <td>[rt, tveitdal, we, only, have, a, 5, percent, ...</td>\n",
       "      <td>[rt, tveitdal, 5, percent, chance, avoiding, d...</td>\n",
       "      <td>[rt, tveitdal, 5, percent, chance, avoiding, d...</td>\n",
       "    </tr>\n",
       "    <tr>\n",
       "      <th>14</th>\n",
       "      <td>2</td>\n",
       "      <td>fossil fuel giant exxonmobil ‘misled’ the publ...</td>\n",
       "      <td>658092</td>\n",
       "      <td>fossil fuel giant exxon mobil misled the publi...</td>\n",
       "      <td>fossil fuel giant exxonmobil ‘misled’ the publ...</td>\n",
       "      <td>[fossil, fuel, giant, exxonmobil, misled, the,...</td>\n",
       "      <td>[fossil, fuel, giant, exxonmobil, misled, publ...</td>\n",
       "      <td>[fossil, fuel, giant, exxonmobil, misled, publ...</td>\n",
       "    </tr>\n",
       "    <tr>\n",
       "      <th>26</th>\n",
       "      <td>2</td>\n",
       "      <td>bangladesh confronting climate change head on ...</td>\n",
       "      <td>365291</td>\n",
       "      <td>bangladesh confronting climate change head tqe...</td>\n",
       "      <td>bangladesh confronting climate change head on ...</td>\n",
       "      <td>[bangladesh, confronting, climate, change, hea...</td>\n",
       "      <td>[bangladesh, confronting, climate, change, hea...</td>\n",
       "      <td>[bangladesh, confronting, climate, change, hea...</td>\n",
       "    </tr>\n",
       "    <tr>\n",
       "      <th>32</th>\n",
       "      <td>2</td>\n",
       "      <td>rt latimes atmospheric rivers fueled by climat...</td>\n",
       "      <td>143471</td>\n",
       "      <td>atmospheric rivers fueled climate change could...</td>\n",
       "      <td>rt latimes atmospheric rivers fueled by climat...</td>\n",
       "      <td>[rt, latimes, atmospheric, rivers, fueled, by,...</td>\n",
       "      <td>[rt, latimes, atmospheric, rivers, fueled, cli...</td>\n",
       "      <td>[rt, latimes, atmospheric, river, fueled, clim...</td>\n",
       "    </tr>\n",
       "    <tr>\n",
       "      <th>...</th>\n",
       "      <td>...</td>\n",
       "      <td>...</td>\n",
       "      <td>...</td>\n",
       "      <td>...</td>\n",
       "      <td>...</td>\n",
       "      <td>...</td>\n",
       "      <td>...</td>\n",
       "      <td>...</td>\n",
       "    </tr>\n",
       "    <tr>\n",
       "      <th>3660</th>\n",
       "      <td>-1</td>\n",
       "      <td>thehill the only remedy to cure global warming...</td>\n",
       "      <td>3275</td>\n",
       "      <td>the only remedy cure global warming write chec...</td>\n",
       "      <td>thehill the only remedy to cure global warming...</td>\n",
       "      <td>[thehill, the, only, remedy, to, cure, global,...</td>\n",
       "      <td>[thehill, remedy, cure, global, warming, write...</td>\n",
       "      <td>[thehill, remedy, cure, global, warming, write...</td>\n",
       "    </tr>\n",
       "    <tr>\n",
       "      <th>5357</th>\n",
       "      <td>-1</td>\n",
       "      <td>rt walshfreedom trump picks someone to head up...</td>\n",
       "      <td>607528</td>\n",
       "      <td>trump picks someone head the epa who has the n...</td>\n",
       "      <td>rt walshfreedom trump picks someone to head up...</td>\n",
       "      <td>[rt, walshfreedom, trump, picks, someone, to, ...</td>\n",
       "      <td>[rt, walshfreedom, trump, picks, someone, head...</td>\n",
       "      <td>[rt, walshfreedom, trump, pick, someone, head,...</td>\n",
       "    </tr>\n",
       "    <tr>\n",
       "      <th>227</th>\n",
       "      <td>-1</td>\n",
       "      <td>zrastall17 climate change is fakenews</td>\n",
       "      <td>3014</td>\n",
       "      <td>climate change fakenews</td>\n",
       "      <td>zrastall17 climate change is fakenews</td>\n",
       "      <td>[zrastall17, climate, change, is, fakenews]</td>\n",
       "      <td>[zrastall17, climate, change, fakenews]</td>\n",
       "      <td>[zrastall17, climate, change, fakenews]</td>\n",
       "    </tr>\n",
       "    <tr>\n",
       "      <th>11468</th>\n",
       "      <td>-1</td>\n",
       "      <td>i know how come no one ever talks about the go...</td>\n",
       "      <td>601361</td>\n",
       "      <td>know how come one ever talks about the good ki...</td>\n",
       "      <td>i know how come no one ever talks about the go...</td>\n",
       "      <td>[i, know, how, come, no, one, ever, talks, abo...</td>\n",
       "      <td>[know, come, one, ever, talks, good, kind, cli...</td>\n",
       "      <td>[know, come, one, ever, talk, good, kind, clim...</td>\n",
       "    </tr>\n",
       "    <tr>\n",
       "      <th>4191</th>\n",
       "      <td>-1</td>\n",
       "      <td>rt realdonaldtrump they changed the name from ...</td>\n",
       "      <td>320842</td>\n",
       "      <td>they changed the name from global warming clim...</td>\n",
       "      <td>rt realdonaldtrump they changed the name from ...</td>\n",
       "      <td>[rt, realdonaldtrump, they, changed, the, name...</td>\n",
       "      <td>[rt, realdonaldtrump, changed, name, global, w...</td>\n",
       "      <td>[rt, realdonaldtrump, changed, name, global, w...</td>\n",
       "    </tr>\n",
       "  </tbody>\n",
       "</table>\n",
       "<p>14462 rows × 8 columns</p>\n",
       "</div>"
      ],
      "text/plain": [
       "       sentiment                                            message  tweetid  \\\n",
       "2              2  rt rawstory researchers say we have three year...   698562   \n",
       "12             2  rt tveitdal we only have a 5 percent chance of...   454673   \n",
       "14             2  fossil fuel giant exxonmobil ‘misled’ the publ...   658092   \n",
       "26             2  bangladesh confronting climate change head on ...   365291   \n",
       "32             2  rt latimes atmospheric rivers fueled by climat...   143471   \n",
       "...          ...                                                ...      ...   \n",
       "3660          -1  thehill the only remedy to cure global warming...     3275   \n",
       "5357          -1  rt walshfreedom trump picks someone to head up...   607528   \n",
       "227           -1              zrastall17 climate change is fakenews     3014   \n",
       "11468         -1  i know how come no one ever talks about the go...   601361   \n",
       "4191          -1  rt realdonaldtrump they changed the name from ...   320842   \n",
       "\n",
       "                                               prep_text  \\\n",
       "2      researchers say have three years act climate c...   \n",
       "12     only have percent chance avoiding dangerous gl...   \n",
       "14     fossil fuel giant exxon mobil misled the publi...   \n",
       "26     bangladesh confronting climate change head tqe...   \n",
       "32     atmospheric rivers fueled climate change could...   \n",
       "...                                                  ...   \n",
       "3660   the only remedy cure global warming write chec...   \n",
       "5357   trump picks someone head the epa who has the n...   \n",
       "227                              climate change fakenews   \n",
       "11468  know how come one ever talks about the good ki...   \n",
       "4191   they changed the name from global warming clim...   \n",
       "\n",
       "                                             punctuation  \\\n",
       "2      rt rawstory researchers say we have three year...   \n",
       "12     rt tveitdal we only have a 5 percent chance of...   \n",
       "14     fossil fuel giant exxonmobil ‘misled’ the publ...   \n",
       "26     bangladesh confronting climate change head on ...   \n",
       "32     rt latimes atmospheric rivers fueled by climat...   \n",
       "...                                                  ...   \n",
       "3660   thehill the only remedy to cure global warming...   \n",
       "5357   rt walshfreedom trump picks someone to head up...   \n",
       "227                zrastall17 climate change is fakenews   \n",
       "11468  i know how come no one ever talks about the go...   \n",
       "4191   rt realdonaldtrump they changed the name from ...   \n",
       "\n",
       "                                               tokenized  \\\n",
       "2      [rt, rawstory, researchers, say, we, have, thr...   \n",
       "12     [rt, tveitdal, we, only, have, a, 5, percent, ...   \n",
       "14     [fossil, fuel, giant, exxonmobil, misled, the,...   \n",
       "26     [bangladesh, confronting, climate, change, hea...   \n",
       "32     [rt, latimes, atmospheric, rivers, fueled, by,...   \n",
       "...                                                  ...   \n",
       "3660   [thehill, the, only, remedy, to, cure, global,...   \n",
       "5357   [rt, walshfreedom, trump, picks, someone, to, ...   \n",
       "227          [zrastall17, climate, change, is, fakenews]   \n",
       "11468  [i, know, how, come, no, one, ever, talks, abo...   \n",
       "4191   [rt, realdonaldtrump, they, changed, the, name...   \n",
       "\n",
       "                                               stopwords  \\\n",
       "2      [rt, rawstory, researchers, say, three, years,...   \n",
       "12     [rt, tveitdal, 5, percent, chance, avoiding, d...   \n",
       "14     [fossil, fuel, giant, exxonmobil, misled, publ...   \n",
       "26     [bangladesh, confronting, climate, change, hea...   \n",
       "32     [rt, latimes, atmospheric, rivers, fueled, cli...   \n",
       "...                                                  ...   \n",
       "3660   [thehill, remedy, cure, global, warming, write...   \n",
       "5357   [rt, walshfreedom, trump, picks, someone, head...   \n",
       "227              [zrastall17, climate, change, fakenews]   \n",
       "11468  [know, come, one, ever, talks, good, kind, cli...   \n",
       "4191   [rt, realdonaldtrump, changed, name, global, w...   \n",
       "\n",
       "                                                   lemma  \n",
       "2      [rt, rawstory, researcher, say, three, year, a...  \n",
       "12     [rt, tveitdal, 5, percent, chance, avoiding, d...  \n",
       "14     [fossil, fuel, giant, exxonmobil, misled, publ...  \n",
       "26     [bangladesh, confronting, climate, change, hea...  \n",
       "32     [rt, latimes, atmospheric, river, fueled, clim...  \n",
       "...                                                  ...  \n",
       "3660   [thehill, remedy, cure, global, warming, write...  \n",
       "5357   [rt, walshfreedom, trump, pick, someone, head,...  \n",
       "227              [zrastall17, climate, change, fakenews]  \n",
       "11468  [know, come, one, ever, talk, good, kind, clim...  \n",
       "4191   [rt, realdonaldtrump, changed, name, global, w...  \n",
       "\n",
       "[14462 rows x 8 columns]"
      ]
     },
     "execution_count": 31,
     "metadata": {},
     "output_type": "execute_result"
    }
   ],
   "source": [
    "# view dataset\n",
    "train"
   ]
  },
  {
   "cell_type": "markdown",
   "metadata": {},
   "source": [
    "# 5.Split the data "
   ]
  },
  {
   "cell_type": "code",
   "execution_count": 32,
   "metadata": {},
   "outputs": [],
   "source": [
    "X = train['lemma']\n",
    "y = train['sentiment']"
   ]
  },
  {
   "cell_type": "code",
   "execution_count": 33,
   "metadata": {},
   "outputs": [],
   "source": [
    "# Split the data\n",
    "X_train, X_test, y_train, y_test = train_test_split(X, y, test_size = 0.20, random_state = 42)"
   ]
  },
  {
   "cell_type": "markdown",
   "metadata": {},
   "source": [
    "# 6. vectorize the data "
   ]
  },
  {
   "cell_type": "code",
   "execution_count": 34,
   "metadata": {},
   "outputs": [],
   "source": [
    "from sklearn.feature_extraction.text import CountVectorizer"
   ]
  },
  {
   "cell_type": "code",
   "execution_count": 35,
   "metadata": {},
   "outputs": [],
   "source": [
    "def clean_title(text):\n",
    "   text = \" \".join([word.lower() for word in text if word not in string.punctuation])\n",
    "   title = re.split('\\W+', text)\n",
    "   text = [ps.stem(word) for word in title if word not in nltk.corpus.stopwords.words('english')]\n",
    "   return text"
   ]
  },
  {
   "cell_type": "code",
   "execution_count": 36,
   "metadata": {},
   "outputs": [],
   "source": [
    "#create vector object\n",
    "cv = CountVectorizer(analyzer=clean_title) \n",
    "\n",
    "# transfrom the values based on X_train\n",
    "X_train_vect = cv.fit_transform(X_train).toarray()"
   ]
  },
  {
   "cell_type": "code",
   "execution_count": 37,
   "metadata": {},
   "outputs": [],
   "source": [
    "#transform the values X_test\n",
    "X_test_vect = cv.transform(X_test).toarray()"
   ]
  },
  {
   "cell_type": "code",
   "execution_count": 38,
   "metadata": {},
   "outputs": [],
   "source": [
    "#convert y_train to array\n",
    "y_train_vect = np.array(y_train)"
   ]
  },
  {
   "cell_type": "markdown",
   "metadata": {},
   "source": [
    "# multinomial Naive Bayes"
   ]
  },
  {
   "cell_type": "code",
   "execution_count": 42,
   "metadata": {},
   "outputs": [],
   "source": [
    "from sklearn.naive_bayes import MultinomialNB "
   ]
  },
  {
   "cell_type": "code",
   "execution_count": 43,
   "metadata": {},
   "outputs": [],
   "source": [
    "mn = MultinomialNB()"
   ]
  },
  {
   "cell_type": "code",
   "execution_count": 44,
   "metadata": {},
   "outputs": [
    {
     "data": {
      "text/plain": [
       "MultinomialNB()"
      ]
     },
     "execution_count": 44,
     "metadata": {},
     "output_type": "execute_result"
    }
   ],
   "source": [
    "mn.fit(X_train_vect, y_train_vect)"
   ]
  },
  {
   "cell_type": "code",
   "execution_count": 45,
   "metadata": {},
   "outputs": [],
   "source": [
    "y_pred = mn.predict(X_test_vect)"
   ]
  },
  {
   "cell_type": "code",
   "execution_count": 46,
   "metadata": {},
   "outputs": [
    {
     "name": "stdout",
     "output_type": "stream",
     "text": [
      "The accuracy score of the multinomial Naive Bayes is: 0.7694434842723816\n",
      "\n",
      "\n",
      "Classification Report:\n",
      "\n",
      "               precision    recall  f1-score   support\n",
      "\n",
      "          -1       0.82      0.91      0.87       721\n",
      "           0       0.85      0.66      0.74       741\n",
      "           1       0.68      0.62      0.65       709\n",
      "           2       0.74      0.88      0.80       722\n",
      "\n",
      "    accuracy                           0.77      2893\n",
      "   macro avg       0.77      0.77      0.77      2893\n",
      "weighted avg       0.77      0.77      0.77      2893\n",
      "\n"
     ]
    }
   ],
   "source": [
    "print(\"The accuracy score of the multinomial Naive Bayes is:\", accuracy_score(y_test, y_pred))\n",
    "print(\"\\n\\nClassification Report:\\n\\n\", classification_report(y_test, y_pred))"
   ]
  },
  {
   "cell_type": "code",
   "execution_count": null,
   "metadata": {},
   "outputs": [],
   "source": []
  }
 ],
 "metadata": {
  "kernelspec": {
   "display_name": "Python 3",
   "language": "python",
   "name": "python3"
  },
  "language_info": {
   "codemirror_mode": {
    "name": "ipython",
    "version": 3
   },
   "file_extension": ".py",
   "mimetype": "text/x-python",
   "name": "python",
   "nbconvert_exporter": "python",
   "pygments_lexer": "ipython3",
   "version": "3.8.3"
  },
  "papermill": {
   "default_parameters": {},
   "duration": 39.954627,
   "end_time": "2021-06-12T13:27:11.653248",
   "environment_variables": {},
   "exception": null,
   "input_path": "__notebook__.ipynb",
   "output_path": "__notebook__.ipynb",
   "parameters": {},
   "start_time": "2021-06-12T13:26:31.698621",
   "version": "2.3.3"
  }
 },
 "nbformat": 4,
 "nbformat_minor": 5
}
